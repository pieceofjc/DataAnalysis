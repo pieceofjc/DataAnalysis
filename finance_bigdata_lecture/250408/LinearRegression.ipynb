{
 "cells": [
  {
   "cell_type": "markdown",
   "metadata": {},
   "source": [
    "## LinearRegression\n",
    "### 일 대 일 실수 값을 예측한다\n",
    "- from sklearn.linear_model import LinearRegression\n",
    "- 보통 최소제곱 선형 회귀(Ordinary least squares Linear Regression) 모델로 정의된다. 이 모델은 주어진 데이터셋의 관측된 타겟 값과 선형 근사식으로 예측된 타겟 값 사이의 잔차 제곱합을 최소화하는 계수 (w = (w_1, …, w_p))를 갖는 선형 모델을 학습한다.\n",
    "*   **`fit_intercept`**: 이 **불리언(boolean) 매개변수**는 모델에 **절편(intercept)**을 포함할지 여부를 결정합니다. 기본값은 `True`이며, 절편은 독립 변수가 모두 0일 때 종속 변수의 예상 값을 나타냅니다. 만약 `False`로 설정되면, 계산에 절편이 사용되지 않으며, 데이터가 이미 중심화되었다고 가정합니다. 학습 후 `intercept_` 속성을 통해 학습된 절편 값을 확인할 수 있으며, `fit_intercept`가 `False`이면 0.0으로 설정됩니다.\n",
    "\n",
    "*   **`copy_X`**: 이 **불리언 매개변수**는 학습 데이터 `X`를 **복사할지 여부**를 결정합니다. 기본값은 `True`이며, 이는 원본 데이터를 변경하지 않도록 안전하게 유지합니다. `False`로 설정하면 `X`가 덮어쓰여질 수 있으므로 주의해야 합니다.\n",
    "\n",
    "*   **`n_jobs`**: 이 **정수형 매개변수**는 계산에 사용할 **CPU 코어의 수**를 지정합니다. `None`은 1을 의미하며 (joblib.parallel\\_backend 컨텍스트가 아닌 경우), `-1`은 모든 프로세서를 사용합니다. 이 매개변수는 **충분히 큰 문제**, 즉 첫째로 타겟 변수(`n_targets`)가 1보다 크거나, 둘째로 입력 데이터 `X`가 **희소 행렬**이거나 `positive`가 `True`로 설정된 경우에 **속도 향상을 제공**할 수 있습니다.\n",
    "\n",
    "*   **`positive`**: 이 **불리언 매개변수**는 버전 0.24에서 추가되었으며, `True`로 설정하면 **모델의 계수가 반드시 양수(0보다 크거나 같음)**가 되도록 강제합니다. 이 옵션은 **밀집 배열(dense arrays)에 대해서만 지원**됩니다. 우리 이전 대화에서 논의된 것처럼, 이는 특정 상황에서 모델의 해석력을 높이거나 현실적인 제약을 반영하는 데 유용할 수 있습니다. `positive`가 `True`로 설정되면, 내부적으로 비음수 최소제곱법(`scipy.optimize.nnls`)이 사용될 수 있습니다.\n",
    "\n",
    "*   **`fit`**: 학습 데이터를 받는 `X` (특성 행렬), `y` (타겟 벡터), 그리고 각 샘플에 대한 가중치를 부여하는 `sample_weight` 매개변수를 가집니다. `sample_weight` 매개변수는 버전 0.17에서 추가되었습니다\n",
    "\n",
    "*   **`get_params`**: 추정기의 매개변수를 얻는 데 사용되며, `deep` 매개변수를 통해 하위 객체의 매개변수를 포함할지 여부를 결정할 수 있습니다.\n",
    "\n",
    "*   **`set_fit_request`**와 **`set_score_request`** : 메타 추정기 내에서 사용될 때 `fit` 및 `score` 메소드로 전달될 메타데이터 라우팅을 설정하는 데 사용되며, `sample_weight` 매개변수에 대한 옵션을 제공합니다. 이러한 메소드는 scikit-learn 버전 1.3에서 추가되었으며, `enable_metadata_routing=True`로 설정된 경우에만 관련이 있습니다.\n",
    "\n",
    "*   **`set_params`** : 추정기의 매개변수를 설정하는 데 사용되며, 중첩된 객체의 매개변수도 설정할 수 있도록 `<component>__<parameter>` 형식을 지원합니다."
   ]
  },
  {
   "cell_type": "code",
   "execution_count": null,
   "metadata": {},
   "outputs": [],
   "source": [
    "import numpy as np\n",
    "from sklearn.linear_model import LinearRegression\n",
    "X = np.array([[1, 1], [1, 2], [2, 2], [2, 3]])\n",
    "# y = 1 * x_0 + 2 * x_1 + 3\n",
    "y = np.dot(X, np.array([1, 2])) + 3\n",
    "reg = LinearRegression().fit(X, y)\n",
    "reg.score(X, y)\n",
    "reg.coef_\n",
    "reg.intercept_\n",
    "reg.predict(np.array([[3, 5]]))"
   ]
  },
  {
   "cell_type": "markdown",
   "metadata": {},
   "source": [
    "## train_test_split\n",
    "- 주어진 데이터(배열 또는 행렬)를 학습 세트와 테스트 세트로 무작위 분할하는 기능을 제공하는 유틸리티이다\n",
    "\n",
    "*   **`arrays`**: 이 매개변수는 **분할하고자 하는 시퀀스 가능한 객체들의 모음**을 받습니다. 이는 리스트, NumPy 배열, SciPy 희소 행렬 또는 Pandas DataFrame 형태일 수 있으며, **모든 객체는 길이가 같거나 `shape`이 동일해야 합니다**. 일반적으로 특성 데이터(`X`)와 타겟 변수(`y`)를 함께 전달하며, 함수는 이들을 각각 학습 세트와 테스트 세트로 나누어 반환합니다.\n",
    "\n",
    "*   **`test_size`**: 이 매개변수는 **테스트 세트에 포함할 데이터셋의 비율(0.0과 1.0 사이의 부동 소수점)** 또는 **테스트 샘플의 절대 개수(정수)**를 지정합니다. 만약 `float` 값이 주어지면 전체 데이터셋에서 테스트 세트가 차지할 비율을 나타내고, `int` 값이 주어지면 테스트 세트의 정확한 샘플 수를 의미합니다. 기본값은 `None`이며, 이 경우 `train_size`가 설정되어 있다면 그 여집합으로 설정되고, `train_size` 또한 `None`이라면 **기본적으로 0.25(25%)**로 설정됩니다. 적절한 `test_size`를 설정하는 것은 모델의 일반화 성능을 정확하게 평가하는 데 중요합니다.\n",
    "\n",
    "*   **`train_size`**: 이 매개변수는 **학습 세트에 포함할 데이터셋의 비율(0.0과 1.0 사이의 부동 소수점)** 또는 **학습 샘플의 절대 개수(정수)**를 지정합니다. `test_size`와 유사하게 작동하며, 기본값은 `None`으로 설정 시 `test_size`의 여집합으로 자동 결정됩니다. `train_size`를 명시적으로 설정하여 학습에 사용할 데이터의 양을 조절할 수 있습니다.\n",
    "\n",
    "*   **`random_state`**: 이 매개변수는 데이터를 분할하기 전에 **수행되는 셔플링을 제어**합니다. **정수, `RandomState` 인스턴스 또는 `None`**을 값으로 가질 수 있으며, **정수 값을 전달하면 여러 번 함수를 호출하더라도 동일한 무작위 분할 결과를 얻을 수 있어 실험의 재현성을 확보**할 수 있습니다. 이는 모델 개발 및 비교 과정에서 일관된 데이터 분할을 유지하는 데 매우 중요합니다. `random_state`를 설정하지 않거나 `None`으로 두면 매번 다른 무작위 분할이 발생합니다.\n",
    "\n",
    "*   **`shuffle`**: 이 매개변수는 **분할 전에 데이터를 섞을지 여부를 결정하는 불리언 값**입니다. 기본값은 `True`이며, 일반적으로 데이터의 순서가 학습에 영향을 미치는 것을 방지하고 모델의 일반화 성능을 향상시키는 데 도움이 됩니다. 만약 **`shuffle=False`로 설정하면 `stratify` 매개변수는 반드시 `None`이어야 합니다**. 시계열 데이터와 같이 순서가 중요한 데이터의 경우 셔플링을 비활성화할 수 있습니다.\n",
    "\n",
    "*   **`stratify`**: 이 매개변수는 **배열 형태의 클래스 레이블**을 받으며, 만약 `None`이 아니면 **데이터가 계층화된 방식으로 분할**됩니다. 이는 제공된 클래스 레이블을 사용하여 학습 세트와 테스트 세트가 전체 데이터셋의 클래스 비율을 유지하도록 합니다. 이는 **클래스 불균형 문제가 있는 데이터셋에서 각 클래스가 학습 및 테스트 세트에 적절히 대표되도록 하는 데 매우 중요**합니다. 더 자세한 내용은 사용자 가이드에서 확인할 수 있습니다."
   ]
  },
  {
   "cell_type": "code",
   "execution_count": 1,
   "metadata": {},
   "outputs": [
    {
     "data": {
      "text/plain": [
       "[[0, 1, 2], [3, 4]]"
      ]
     },
     "execution_count": 1,
     "metadata": {},
     "output_type": "execute_result"
    }
   ],
   "source": [
    "import numpy as np\n",
    "from sklearn.model_selection import train_test_split\n",
    "X, y = np.arange(10).reshape((5, 2)), range(5)\n",
    "\n",
    "X_train, X_test, y_train, y_test = train_test_split(\n",
    "    X, y, test_size=0.33, random_state=42)\n",
    "\n",
    "\n",
    "train_test_split(y, shuffle=False)"
   ]
  }
 ],
 "metadata": {
  "kernelspec": {
   "display_name": ".venv",
   "language": "python",
   "name": "python3"
  },
  "language_info": {
   "codemirror_mode": {
    "name": "ipython",
    "version": 3
   },
   "file_extension": ".py",
   "mimetype": "text/x-python",
   "name": "python",
   "nbconvert_exporter": "python",
   "pygments_lexer": "ipython3",
   "version": "3.12.4"
  }
 },
 "nbformat": 4,
 "nbformat_minor": 2
}
