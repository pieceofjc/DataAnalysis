{
 "cells": [
  {
   "cell_type": "code",
   "execution_count": 2,
   "metadata": {},
   "outputs": [],
   "source": [
    "import pandas as pd\n",
    "import requests\n",
    "from bs4 import BeautifulSoup as bs\n",
    "from selenium import webdriver\n",
    "from selenium.webdriver.common.by import By\n",
    "from selenium.webdriver.common.keys import Keys"
   ]
  },
  {
   "cell_type": "code",
   "execution_count": 3,
   "metadata": {},
   "outputs": [],
   "source": [
    "chrome = webdriver.Chrome()"
   ]
  },
  {
   "cell_type": "code",
   "execution_count": 6,
   "metadata": {},
   "outputs": [],
   "source": [
    "chrome.get(\"https://finance.naver.com/\")"
   ]
  },
  {
   "cell_type": "code",
   "execution_count": null,
   "metadata": {},
   "outputs": [],
   "source": [
    "search = chrome.find_element(By.CLASS_NAME, 'search_input')\n",
    "search.send_keys('012450')\n",
    "search.send_keys(Keys.ENTER)"
   ]
  },
  {
   "cell_type": "code",
   "execution_count": 8,
   "metadata": {},
   "outputs": [],
   "source": [
    "new_bbs = chrome.find_element(By.XPATH, '//*[@id=\"content\"]/div[4]/div[1]/a')\n",
    "new_bbs.click()"
   ]
  },
  {
   "cell_type": "code",
   "execution_count": 163,
   "metadata": {},
   "outputs": [],
   "source": [
    "chrome.get(\"https://finance.naver.com/item/news.naver?code=012450\")"
   ]
  },
  {
   "cell_type": "code",
   "execution_count": 164,
   "metadata": {},
   "outputs": [],
   "source": [
    "iframe = chrome.find_element(By.ID, \"news_frame\")\n",
    "chrome.switch_to.frame(iframe)"
   ]
  },
  {
   "cell_type": "code",
   "execution_count": 165,
   "metadata": {},
   "outputs": [],
   "source": [
    "soup = bs(chrome.page_source, 'html.parser')"
   ]
  },
  {
   "cell_type": "code",
   "execution_count": 166,
   "metadata": {},
   "outputs": [],
   "source": [
    "news_section = soup.find(\"div\",\"_replaceNewsLink\")\n",
    "table = news_section.find(\"table\")"
   ]
  },
  {
   "cell_type": "code",
   "execution_count": 167,
   "metadata": {},
   "outputs": [
    {
     "data": {
      "text/plain": [
       "['제목', '정보제공', '날짜']"
      ]
     },
     "execution_count": 167,
     "metadata": {},
     "output_type": "execute_result"
    }
   ],
   "source": [
    "tr_list = [x for x in table.find_all(\"tr\") if \"relation_lst\" not in x.get(\"class\", [])]\n",
    "thead = [th.get_text().strip() for th in tr_list[0].find_all(\"th\")]\n",
    "tbody = tr_list[1:]\n",
    "thead"
   ]
  },
  {
   "cell_type": "code",
   "execution_count": 168,
   "metadata": {},
   "outputs": [
    {
     "data": {
      "text/plain": [
       "[['[단독] \"쉴드AI 투자자는 한화에어로 아닌 한화자산운용\"…시장 혼선', '시사저널', '2025.03.13 10:58'],\n",
       " ['美‘쉴드 AI’ 투자 회사 한화에어로 아냐, 주가급등 이유 없어', '이데일리', '2025.03.13 10:49'],\n",
       " ['현대로템, 유럽 방위비 증액 기대감 타고 연일 최고가[줍줍 리포트]', '서울경제', '2025.03.13 10:58'],\n",
       " ['한화에어로, 선박용 수소연료전지 글로벌 인증 획득', '아이뉴스24', '2025.03.13 10:58'],\n",
       " ['한화에어로, 수소연료전지 글로벌 인증…\"친환경 선박시장 공략\"', '뉴스1', '2025.03.13 10:56'],\n",
       " ['한화, 수소연료전지 글로벌 인증 성공…“친환경 선박시장 진출”', '부산일보', '2025.03.13 10:32'],\n",
       " ['한화, 수소연료전지 글로벌 인증 획득…\"친환경 선박시장 본격 공략\"', '지디넷코리아', '2025.03.13 10:25'],\n",
       " ['한화에어로, 수소연료전지 글로벌 인증…무탄소 선박 시장 진출', '머니투데이', '2025.03.13 10:24'],\n",
       " ['한화, 수소연료전지 글로벌인증…친환경 선박시장 공략', '아시아경제', '2025.03.13 10:24'],\n",
       " ['한화, 수소연료전지 글로벌인증…친환경 선박시장 본격 공략', 'SBS Biz', '2025.03.13 10:15'],\n",
       " ['한화에어로, 수소연료전지 글로벌 인증...“친환경 선박 본격 공략”', '데일리안', '2025.03.13 10:12'],\n",
       " ['한화, 수소연료전지 글로벌 인증 획득…“친환경 기술 경쟁력 확보”', '이데일리', '2025.03.13 09:59'],\n",
       " ['한화, 수소연료전지 글로벌인증…\"친환경 선박시장 본격 공략\"', '연합뉴스', '2025.03.13 09:44'],\n",
       " ['한화에어로, 수소연료전지 글로벌인증…“친환경 선박시장 본격 공략...', '헤럴드경제', '2025.03.13 09:44'],\n",
       " [\"올해 국내 증시 믿을맨은 '방산'…황제주 탄생할까\", '머니투데이', '2025.03.13 10:55'],\n",
       " ['[특징주] \"추가 상승 여력 충분\" 한화에어로, 6%대 급등', '데일리안', '2025.03.13 10:34'],\n",
       " ['[특징주] 한화에어로, 증권가 목표주가 상향에 5%대 급등', '연합뉴스', '2025.03.13 09:28'],\n",
       " ['美 방산 스타트업 ‘쉴드AI’ 투자…한화에어로 아닌 한화자산운용', '조선비즈', '2025.03.13 10:24'],\n",
       " ['코스피, 美 증시 힘입어 2,590대서 강세…코스닥도 0.56% 올라', '이코노미스트', '2025.03.13 10:13'],\n",
       " ['美 CPI 예상치 하회에 국내 증시도 ‘영차’… 코스피 2590대 등...', '헤럴드경제', '2025.03.13 09:59'],\n",
       " ['코스피 美훈풍에 장중 강세 2,590대 등락…코스닥도 올라(종합)', '연합뉴스', '2025.03.13 09:27'],\n",
       " ['현대로템 7% 강세…장초반 사상 최고가 경신[핫종목]', '뉴스1', '2025.03.13 10:04'],\n",
       " ['[13일 오전시황] 美 2월 CPI 안도감에 코스피도 2590대 상승 ...', '데일리안', '2025.03.13 10:03'],\n",
       " [\"방산주 연일 랠리...현대로템·한화에어로 '불기둥' [특징주]\", '파이낸셜뉴스', '2025.03.13 10:00']]"
      ]
     },
     "execution_count": 168,
     "metadata": {},
     "output_type": "execute_result"
    }
   ],
   "source": [
    "for i in range(len(tbody)):\n",
    "    current = tbody[i].find_all(name=\"td\", attrs={\n",
    "        'class' : ['title','info','date']\n",
    "    })\n",
    "    tbody[i] = list(map(lambda x : x.get_text().strip(), current))\n",
    "    \n",
    "tbody"
   ]
  },
  {
   "cell_type": "code",
   "execution_count": 169,
   "metadata": {},
   "outputs": [],
   "source": [
    "df = pd.DataFrame(tbody, columns=thead)"
   ]
  },
  {
   "cell_type": "code",
   "execution_count": 170,
   "metadata": {},
   "outputs": [
    {
     "data": {
      "text/html": [
       "<div>\n",
       "<style scoped>\n",
       "    .dataframe tbody tr th:only-of-type {\n",
       "        vertical-align: middle;\n",
       "    }\n",
       "\n",
       "    .dataframe tbody tr th {\n",
       "        vertical-align: top;\n",
       "    }\n",
       "\n",
       "    .dataframe thead th {\n",
       "        text-align: right;\n",
       "    }\n",
       "</style>\n",
       "<table border=\"1\" class=\"dataframe\">\n",
       "  <thead>\n",
       "    <tr style=\"text-align: right;\">\n",
       "      <th></th>\n",
       "      <th>제목</th>\n",
       "      <th>정보제공</th>\n",
       "      <th>날짜</th>\n",
       "    </tr>\n",
       "  </thead>\n",
       "  <tbody>\n",
       "    <tr>\n",
       "      <th>0</th>\n",
       "      <td>[단독] \"쉴드AI 투자자는 한화에어로 아닌 한화자산운용\"…시장 혼선</td>\n",
       "      <td>시사저널</td>\n",
       "      <td>2025.03.13 10:58</td>\n",
       "    </tr>\n",
       "    <tr>\n",
       "      <th>1</th>\n",
       "      <td>美‘쉴드 AI’ 투자 회사 한화에어로 아냐, 주가급등 이유 없어</td>\n",
       "      <td>이데일리</td>\n",
       "      <td>2025.03.13 10:49</td>\n",
       "    </tr>\n",
       "    <tr>\n",
       "      <th>2</th>\n",
       "      <td>현대로템, 유럽 방위비 증액 기대감 타고 연일 최고가[줍줍 리포트]</td>\n",
       "      <td>서울경제</td>\n",
       "      <td>2025.03.13 10:58</td>\n",
       "    </tr>\n",
       "    <tr>\n",
       "      <th>3</th>\n",
       "      <td>한화에어로, 선박용 수소연료전지 글로벌 인증 획득</td>\n",
       "      <td>아이뉴스24</td>\n",
       "      <td>2025.03.13 10:58</td>\n",
       "    </tr>\n",
       "    <tr>\n",
       "      <th>4</th>\n",
       "      <td>한화에어로, 수소연료전지 글로벌 인증…\"친환경 선박시장 공략\"</td>\n",
       "      <td>뉴스1</td>\n",
       "      <td>2025.03.13 10:56</td>\n",
       "    </tr>\n",
       "    <tr>\n",
       "      <th>5</th>\n",
       "      <td>한화, 수소연료전지 글로벌 인증 성공…“친환경 선박시장 진출”</td>\n",
       "      <td>부산일보</td>\n",
       "      <td>2025.03.13 10:32</td>\n",
       "    </tr>\n",
       "    <tr>\n",
       "      <th>6</th>\n",
       "      <td>한화, 수소연료전지 글로벌 인증 획득…\"친환경 선박시장 본격 공략\"</td>\n",
       "      <td>지디넷코리아</td>\n",
       "      <td>2025.03.13 10:25</td>\n",
       "    </tr>\n",
       "    <tr>\n",
       "      <th>7</th>\n",
       "      <td>한화에어로, 수소연료전지 글로벌 인증…무탄소 선박 시장 진출</td>\n",
       "      <td>머니투데이</td>\n",
       "      <td>2025.03.13 10:24</td>\n",
       "    </tr>\n",
       "    <tr>\n",
       "      <th>8</th>\n",
       "      <td>한화, 수소연료전지 글로벌인증…친환경 선박시장 공략</td>\n",
       "      <td>아시아경제</td>\n",
       "      <td>2025.03.13 10:24</td>\n",
       "    </tr>\n",
       "    <tr>\n",
       "      <th>9</th>\n",
       "      <td>한화, 수소연료전지 글로벌인증…친환경 선박시장 본격 공략</td>\n",
       "      <td>SBS Biz</td>\n",
       "      <td>2025.03.13 10:15</td>\n",
       "    </tr>\n",
       "    <tr>\n",
       "      <th>10</th>\n",
       "      <td>한화에어로, 수소연료전지 글로벌 인증...“친환경 선박 본격 공략”</td>\n",
       "      <td>데일리안</td>\n",
       "      <td>2025.03.13 10:12</td>\n",
       "    </tr>\n",
       "    <tr>\n",
       "      <th>11</th>\n",
       "      <td>한화, 수소연료전지 글로벌 인증 획득…“친환경 기술 경쟁력 확보”</td>\n",
       "      <td>이데일리</td>\n",
       "      <td>2025.03.13 09:59</td>\n",
       "    </tr>\n",
       "    <tr>\n",
       "      <th>12</th>\n",
       "      <td>한화, 수소연료전지 글로벌인증…\"친환경 선박시장 본격 공략\"</td>\n",
       "      <td>연합뉴스</td>\n",
       "      <td>2025.03.13 09:44</td>\n",
       "    </tr>\n",
       "    <tr>\n",
       "      <th>13</th>\n",
       "      <td>한화에어로, 수소연료전지 글로벌인증…“친환경 선박시장 본격 공략...</td>\n",
       "      <td>헤럴드경제</td>\n",
       "      <td>2025.03.13 09:44</td>\n",
       "    </tr>\n",
       "    <tr>\n",
       "      <th>14</th>\n",
       "      <td>올해 국내 증시 믿을맨은 '방산'…황제주 탄생할까</td>\n",
       "      <td>머니투데이</td>\n",
       "      <td>2025.03.13 10:55</td>\n",
       "    </tr>\n",
       "    <tr>\n",
       "      <th>15</th>\n",
       "      <td>[특징주] \"추가 상승 여력 충분\" 한화에어로, 6%대 급등</td>\n",
       "      <td>데일리안</td>\n",
       "      <td>2025.03.13 10:34</td>\n",
       "    </tr>\n",
       "    <tr>\n",
       "      <th>16</th>\n",
       "      <td>[특징주] 한화에어로, 증권가 목표주가 상향에 5%대 급등</td>\n",
       "      <td>연합뉴스</td>\n",
       "      <td>2025.03.13 09:28</td>\n",
       "    </tr>\n",
       "    <tr>\n",
       "      <th>17</th>\n",
       "      <td>美 방산 스타트업 ‘쉴드AI’ 투자…한화에어로 아닌 한화자산운용</td>\n",
       "      <td>조선비즈</td>\n",
       "      <td>2025.03.13 10:24</td>\n",
       "    </tr>\n",
       "    <tr>\n",
       "      <th>18</th>\n",
       "      <td>코스피, 美 증시 힘입어 2,590대서 강세…코스닥도 0.56% 올라</td>\n",
       "      <td>이코노미스트</td>\n",
       "      <td>2025.03.13 10:13</td>\n",
       "    </tr>\n",
       "    <tr>\n",
       "      <th>19</th>\n",
       "      <td>美 CPI 예상치 하회에 국내 증시도 ‘영차’… 코스피 2590대 등...</td>\n",
       "      <td>헤럴드경제</td>\n",
       "      <td>2025.03.13 09:59</td>\n",
       "    </tr>\n",
       "    <tr>\n",
       "      <th>20</th>\n",
       "      <td>코스피 美훈풍에 장중 강세 2,590대 등락…코스닥도 올라(종합)</td>\n",
       "      <td>연합뉴스</td>\n",
       "      <td>2025.03.13 09:27</td>\n",
       "    </tr>\n",
       "    <tr>\n",
       "      <th>21</th>\n",
       "      <td>현대로템 7% 강세…장초반 사상 최고가 경신[핫종목]</td>\n",
       "      <td>뉴스1</td>\n",
       "      <td>2025.03.13 10:04</td>\n",
       "    </tr>\n",
       "    <tr>\n",
       "      <th>22</th>\n",
       "      <td>[13일 오전시황] 美 2월 CPI 안도감에 코스피도 2590대 상승 ...</td>\n",
       "      <td>데일리안</td>\n",
       "      <td>2025.03.13 10:03</td>\n",
       "    </tr>\n",
       "    <tr>\n",
       "      <th>23</th>\n",
       "      <td>방산주 연일 랠리...현대로템·한화에어로 '불기둥' [특징주]</td>\n",
       "      <td>파이낸셜뉴스</td>\n",
       "      <td>2025.03.13 10:00</td>\n",
       "    </tr>\n",
       "  </tbody>\n",
       "</table>\n",
       "</div>"
      ],
      "text/plain": [
       "                                            제목     정보제공                날짜\n",
       "0       [단독] \"쉴드AI 투자자는 한화에어로 아닌 한화자산운용\"…시장 혼선     시사저널  2025.03.13 10:58\n",
       "1          美‘쉴드 AI’ 투자 회사 한화에어로 아냐, 주가급등 이유 없어     이데일리  2025.03.13 10:49\n",
       "2        현대로템, 유럽 방위비 증액 기대감 타고 연일 최고가[줍줍 리포트]     서울경제  2025.03.13 10:58\n",
       "3                  한화에어로, 선박용 수소연료전지 글로벌 인증 획득   아이뉴스24  2025.03.13 10:58\n",
       "4           한화에어로, 수소연료전지 글로벌 인증…\"친환경 선박시장 공략\"      뉴스1  2025.03.13 10:56\n",
       "5           한화, 수소연료전지 글로벌 인증 성공…“친환경 선박시장 진출”     부산일보  2025.03.13 10:32\n",
       "6        한화, 수소연료전지 글로벌 인증 획득…\"친환경 선박시장 본격 공략\"   지디넷코리아  2025.03.13 10:25\n",
       "7            한화에어로, 수소연료전지 글로벌 인증…무탄소 선박 시장 진출    머니투데이  2025.03.13 10:24\n",
       "8                 한화, 수소연료전지 글로벌인증…친환경 선박시장 공략    아시아경제  2025.03.13 10:24\n",
       "9              한화, 수소연료전지 글로벌인증…친환경 선박시장 본격 공략  SBS Biz  2025.03.13 10:15\n",
       "10       한화에어로, 수소연료전지 글로벌 인증...“친환경 선박 본격 공략”     데일리안  2025.03.13 10:12\n",
       "11        한화, 수소연료전지 글로벌 인증 획득…“친환경 기술 경쟁력 확보”     이데일리  2025.03.13 09:59\n",
       "12           한화, 수소연료전지 글로벌인증…\"친환경 선박시장 본격 공략\"     연합뉴스  2025.03.13 09:44\n",
       "13      한화에어로, 수소연료전지 글로벌인증…“친환경 선박시장 본격 공략...    헤럴드경제  2025.03.13 09:44\n",
       "14                 올해 국내 증시 믿을맨은 '방산'…황제주 탄생할까    머니투데이  2025.03.13 10:55\n",
       "15           [특징주] \"추가 상승 여력 충분\" 한화에어로, 6%대 급등     데일리안  2025.03.13 10:34\n",
       "16            [특징주] 한화에어로, 증권가 목표주가 상향에 5%대 급등     연합뉴스  2025.03.13 09:28\n",
       "17         美 방산 스타트업 ‘쉴드AI’ 투자…한화에어로 아닌 한화자산운용     조선비즈  2025.03.13 10:24\n",
       "18      코스피, 美 증시 힘입어 2,590대서 강세…코스닥도 0.56% 올라   이코노미스트  2025.03.13 10:13\n",
       "19   美 CPI 예상치 하회에 국내 증시도 ‘영차’… 코스피 2590대 등...    헤럴드경제  2025.03.13 09:59\n",
       "20        코스피 美훈풍에 장중 강세 2,590대 등락…코스닥도 올라(종합)     연합뉴스  2025.03.13 09:27\n",
       "21               현대로템 7% 강세…장초반 사상 최고가 경신[핫종목]      뉴스1  2025.03.13 10:04\n",
       "22  [13일 오전시황] 美 2월 CPI 안도감에 코스피도 2590대 상승 ...     데일리안  2025.03.13 10:03\n",
       "23          방산주 연일 랠리...현대로템·한화에어로 '불기둥' [특징주]   파이낸셜뉴스  2025.03.13 10:00"
      ]
     },
     "execution_count": 170,
     "metadata": {},
     "output_type": "execute_result"
    }
   ],
   "source": [
    "df"
   ]
  },
  {
   "cell_type": "code",
   "execution_count": 171,
   "metadata": {},
   "outputs": [],
   "source": [
    "url = \"https://finance.naver.com/item/main.naver?code=\"\n",
    "\n",
    "code = '012450'"
   ]
  },
  {
   "cell_type": "code",
   "execution_count": 172,
   "metadata": {},
   "outputs": [],
   "source": [
    "chrome.get(url+code)"
   ]
  },
  {
   "cell_type": "code",
   "execution_count": 173,
   "metadata": {},
   "outputs": [],
   "source": [
    "soup2 = bs(chrome.page_source, 'html.parser')"
   ]
  },
  {
   "cell_type": "code",
   "execution_count": 178,
   "metadata": {},
   "outputs": [
    {
     "data": {
      "text/plain": [
       "1"
      ]
     },
     "execution_count": 178,
     "metadata": {},
     "output_type": "execute_result"
    }
   ],
   "source": [
    "# div 태그 중에 class의 값이 news_section 인 태그의 개수를 확인\n",
    "len(\n",
    "    soup2.find_all(\n",
    "        'div', \n",
    "        attrs = {\n",
    "            'class' : 'news_section'\n",
    "        }\n",
    "    )\n",
    ")\n",
    "# div태그에서 _replaceNewsLink 태그는 iframe 태그에 존재\n",
    "# 다른 화면(다른 url)에 태그가 존재 "
   ]
  },
  {
   "cell_type": "code",
   "execution_count": 183,
   "metadata": {},
   "outputs": [],
   "source": [
    "div_data = soup2.find(\"div\",\"news_section\")\n",
    "\n",
    "li_list = div_data.find_all('li')\n",
    "# li_list 각 원소들의 첫번째 a태그를 선택하여 \n",
    "# href의 속성 값을 이용하여 새로운 리스트 생성\n",
    "href_list = []\n",
    "\n",
    "for li_data in li_list:\n",
    "    # li_data에서 첫번째 a태그를 추출 -> href 속성의 값을 추출\n",
    "    data = li_data.find('a')['href']\n",
    "    # href_list에 추가 \n",
    "    href_list.append(data)"
   ]
  },
  {
   "cell_type": "code",
   "execution_count": 184,
   "metadata": {},
   "outputs": [
    {
     "data": {
      "text/plain": [
       "['/item/news_read.naver?article_id=0000915712&office_id=031&code=012450&sm=entity_id.basic',\n",
       " '/item/news_read.naver?article_id=0000099084&office_id=586&code=012450&sm=entity_id.basic',\n",
       " '/item/news_read.naver?article_id=0004460830&office_id=011&code=012450&sm=entity_id.basic',\n",
       " '/item/news_read.naver?article_id=0005165198&office_id=008&code=012450&sm=entity_id.basic',\n",
       " '/item/news_read.naver?article_id=0002932499&office_id=119&code=012450&sm=entity_id.basic',\n",
       " '/item/news_read.naver?article_id=0000074275&office_id=243&code=012450&sm=entity_id.basic',\n",
       " '/item/news_read.naver?article_id=0008127271&office_id=421&code=012450&sm=entity_id.basic',\n",
       " '/item/news_read.naver?article_id=0002932472&office_id=119&code=012450&sm=entity_id.basic',\n",
       " '/item/news_read.naver?article_id=0005320445&office_id=014&code=012450&sm=entity_id.basic',\n",
       " '/item/news_read.naver?article_id=0000429454&office_id=374&code=012450&sm=entity_id.basic']"
      ]
     },
     "execution_count": 184,
     "metadata": {},
     "output_type": "execute_result"
    }
   ],
   "source": [
    "href_list"
   ]
  },
  {
   "cell_type": "code",
   "execution_count": 187,
   "metadata": {},
   "outputs": [],
   "source": [
    "chrome.get(\"https://finance.naver.com\"+href_list[0])"
   ]
  },
  {
   "cell_type": "code",
   "execution_count": 188,
   "metadata": {},
   "outputs": [],
   "source": [
    "news_soup = bs(chrome.page_source, 'html.parser')\n",
    "\n",
    "news_title = news_soup.find(\"h2\", attrs={\n",
    "    'id' : 'title_area'\n",
    "}).get_text()"
   ]
  },
  {
   "cell_type": "code",
   "execution_count": 189,
   "metadata": {},
   "outputs": [],
   "source": [
    "news_content = news_soup.find(\n",
    "    'div',\n",
    "    attrs={\n",
    "        'id': 'newsct_article'\n",
    "    }\n",
    ").get_text().replace('\\n','')"
   ]
  },
  {
   "cell_type": "code",
   "execution_count": null,
   "metadata": {},
   "outputs": [
    {
     "name": "stdout",
     "output_type": "stream",
     "text": [
      "['/item/news_read.naver?article_id=0001201704&office_id=215&code=000660&sm=entity_id.basic', '/item/news_read.naver?article_id=0003292849&office_id=030&code=000660&sm=entity_id.basic', '/item/news_read.naver?article_id=0001060601&office_id=366&code=000660&sm=entity_id.basic', '/item/news_read.naver?article_id=0005320573&office_id=014&code=000660&sm=entity_id.basic', '/item/news_read.naver?article_id=0004460873&office_id=011&code=000660&sm=entity_id.basic', '/item/news_read.naver?article_id=0000429490&office_id=374&code=000660&sm=entity_id.basic', '/item/news_read.naver?article_id=0003524860&office_id=081&code=000660&sm=entity_id.basic', '/item/news_read.naver?article_id=0005560195&office_id=277&code=000660&sm=entity_id.basic', '/item/news_read.naver?article_id=0015262985&office_id=001&code=000660&sm=entity_id.basic', '/item/news_read.naver?article_id=0001060570&office_id=366&code=000660&sm=entity_id.basic']\n"
     ]
    },
    {
     "ename": "AttributeError",
     "evalue": "'NoneType' object has no attribute 'get_text'",
     "output_type": "error",
     "traceback": [
      "\u001b[1;31m---------------------------------------------------------------------------\u001b[0m",
      "\u001b[1;31mAttributeError\u001b[0m                            Traceback (most recent call last)",
      "Cell \u001b[1;32mIn[195], line 49\u001b[0m\n\u001b[0;32m     41\u001b[0m news_soup \u001b[38;5;241m=\u001b[39m bs(driver\u001b[38;5;241m.\u001b[39mpage_source, \u001b[38;5;124m'\u001b[39m\u001b[38;5;124mhtml.parser\u001b[39m\u001b[38;5;124m'\u001b[39m)\n\u001b[0;32m     42\u001b[0m time\u001b[38;5;241m.\u001b[39msleep(\u001b[38;5;241m2\u001b[39m)\n\u001b[0;32m     44\u001b[0m news_title \u001b[38;5;241m=\u001b[39m \u001b[43mnews_soup\u001b[49m\u001b[38;5;241;43m.\u001b[39;49m\u001b[43mfind\u001b[49m\u001b[43m(\u001b[49m\n\u001b[0;32m     45\u001b[0m \u001b[43m    \u001b[49m\u001b[38;5;124;43m'\u001b[39;49m\u001b[38;5;124;43mh2\u001b[39;49m\u001b[38;5;124;43m'\u001b[39;49m\u001b[43m,\u001b[49m\n\u001b[0;32m     46\u001b[0m \u001b[43m    \u001b[49m\u001b[43mattrs\u001b[49m\u001b[38;5;241;43m=\u001b[39;49m\u001b[43m{\u001b[49m\n\u001b[0;32m     47\u001b[0m \u001b[43m        \u001b[49m\u001b[38;5;124;43m'\u001b[39;49m\u001b[38;5;124;43mid\u001b[39;49m\u001b[38;5;124;43m'\u001b[39;49m\u001b[43m \u001b[49m\u001b[43m:\u001b[49m\u001b[43m \u001b[49m\u001b[38;5;124;43m'\u001b[39;49m\u001b[38;5;124;43mtitle_area\u001b[39;49m\u001b[38;5;124;43m'\u001b[39;49m\n\u001b[0;32m     48\u001b[0m \u001b[43m    \u001b[49m\u001b[43m}\u001b[49m\n\u001b[1;32m---> 49\u001b[0m \u001b[43m\u001b[49m\u001b[43m)\u001b[49m\u001b[38;5;241;43m.\u001b[39;49m\u001b[43mget_text\u001b[49m()\n\u001b[0;32m     51\u001b[0m news_content \u001b[38;5;241m=\u001b[39m news_soup\u001b[38;5;241m.\u001b[39mfind(\n\u001b[0;32m     52\u001b[0m     \u001b[38;5;124m'\u001b[39m\u001b[38;5;124mdiv\u001b[39m\u001b[38;5;124m'\u001b[39m,\n\u001b[0;32m     53\u001b[0m     attrs\u001b[38;5;241m=\u001b[39m{\n\u001b[0;32m     54\u001b[0m         \u001b[38;5;124m'\u001b[39m\u001b[38;5;124mid\u001b[39m\u001b[38;5;124m'\u001b[39m : \u001b[38;5;124m'\u001b[39m\u001b[38;5;124mnewsct_article\u001b[39m\u001b[38;5;124m'\u001b[39m\n\u001b[0;32m     55\u001b[0m     }\n\u001b[0;32m     56\u001b[0m )\u001b[38;5;241m.\u001b[39mget_text()\u001b[38;5;241m.\u001b[39mreplace(\u001b[38;5;124m'\u001b[39m\u001b[38;5;130;01m\\n\u001b[39;00m\u001b[38;5;124m'\u001b[39m,\u001b[38;5;124m'\u001b[39m\u001b[38;5;124m'\u001b[39m)\u001b[38;5;241m.\u001b[39mreplace(\u001b[38;5;124m'\u001b[39m\u001b[38;5;130;01m\\t\u001b[39;00m\u001b[38;5;124m'\u001b[39m,\u001b[38;5;124m'\u001b[39m\u001b[38;5;124m'\u001b[39m)\n\u001b[0;32m     58\u001b[0m news_dict \u001b[38;5;241m=\u001b[39m {\n\u001b[0;32m     59\u001b[0m     \u001b[38;5;124m'\u001b[39m\u001b[38;5;124mtitle\u001b[39m\u001b[38;5;124m'\u001b[39m : news_title,\n\u001b[0;32m     60\u001b[0m     \u001b[38;5;124m'\u001b[39m\u001b[38;5;124mcontent\u001b[39m\u001b[38;5;124m'\u001b[39m : news_content\n\u001b[0;32m     61\u001b[0m }\n",
      "\u001b[1;31mAttributeError\u001b[0m: 'NoneType' object has no attribute 'get_text'"
     ]
    }
   ],
   "source": [
    "import pandas as pd\n",
    "from bs4 import BeautifulSoup as bs\n",
    "from selenium import webdriver\n",
    "import time\n",
    "\n",
    "code = input('종목코드 입력 ') # '000660'\n",
    "\n",
    "driver = webdriver.Chrome()\n",
    "base_url = \"https://finance.naver.com\"\n",
    "sub_url = \"/item/main.naver?code=\"\n",
    "\n",
    "driver.get(base_url + sub_url + code)\n",
    "\n",
    "soup = bs(driver.page_source, 'html.parser')\n",
    "\n",
    "# div 태그 중 class가 news_section이라는 태그를 추출 \n",
    "div_data = soup.find(\n",
    "    'div', \n",
    "    attrs = {\n",
    "        'class' : 'news_section'\n",
    "    }\n",
    ")\n",
    "\n",
    "li_list = div_data.find_all('li')\n",
    "\n",
    "# href의 속성 값을 이용하여 새로운 리스트 생성\n",
    "href_list = []\n",
    "\n",
    "for li_data in li_list:\n",
    "    # li_data에서 첫번째 a태그를 추출 -> href 속성의 값을 추출\n",
    "    data = li_data.find('a')['href']\n",
    "    # href_list에 추가 \n",
    "    href_list.append(data)\n",
    "   \n",
    "print(href_list)\n",
    " \n",
    "result = []\n",
    "\n",
    "for href in href_list:\n",
    "    try:\n",
    "        driver.get(base_url + href)\n",
    "        news_soup = bs(driver.page_source, 'html.parser')\n",
    "        time.sleep(2)\n",
    "        \n",
    "        news_title = news_soup.find(\n",
    "            'h2',\n",
    "            attrs={\n",
    "                'id' : 'title_area'\n",
    "            }\n",
    "        ).get_text()\n",
    "        \n",
    "        news_content = news_soup.find(\n",
    "            'div',\n",
    "            attrs={\n",
    "                'id' : 'newsct_article'\n",
    "            }\n",
    "        ).get_text().replace('\\n','').replace('\\t','')\n",
    "        \n",
    "        news_dict = {\n",
    "            'title' : news_title,\n",
    "            'content' : news_content\n",
    "        }\n",
    "        \n",
    "        result.append(news_dict)\n",
    "        print(news_title)\n",
    "    except:\n",
    "        continue\n",
    "    \n",
    "df = pd.DataFrame(result)\n",
    "df.to_csv('asd.csv', index=False)"
   ]
  }
 ],
 "metadata": {
  "kernelspec": {
   "display_name": "base",
   "language": "python",
   "name": "python3"
  },
  "language_info": {
   "codemirror_mode": {
    "name": "ipython",
    "version": 3
   },
   "file_extension": ".py",
   "mimetype": "text/x-python",
   "name": "python",
   "nbconvert_exporter": "python",
   "pygments_lexer": "ipython3",
   "version": "3.12.3"
  }
 },
 "nbformat": 4,
 "nbformat_minor": 2
}
