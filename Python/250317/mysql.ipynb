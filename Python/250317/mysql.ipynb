{
 "cells": [
  {
   "cell_type": "code",
   "execution_count": 1,
   "metadata": {},
   "outputs": [
    {
     "name": "stdout",
     "output_type": "stream",
     "text": [
      "Defaulting to user installation because normal site-packages is not writeable\n",
      "Requirement already satisfied: pymysql in c:\\users\\samsung\\appdata\\roaming\\python\\python312\\site-packages (1.1.1)\n"
     ]
    }
   ],
   "source": [
    "!pip install pymysql"
   ]
  },
  {
   "cell_type": "code",
   "execution_count": 2,
   "metadata": {},
   "outputs": [],
   "source": [
    "import pymysql\n",
    "import pandas as pd"
   ]
  },
  {
   "cell_type": "code",
   "execution_count": 3,
   "metadata": {},
   "outputs": [
    {
     "name": "stdout",
     "output_type": "stream",
     "text": [
      "Defaulting to user installation because normal site-packages is not writeable\n",
      "Requirement already satisfied: dotenv in c:\\users\\samsung\\appdata\\roaming\\python\\python312\\site-packages (0.9.9)\n",
      "Requirement already satisfied: python-dotenv in c:\\programdata\\anaconda3\\lib\\site-packages (from dotenv) (0.21.0)\n"
     ]
    }
   ],
   "source": [
    "!pip install dotenv"
   ]
  },
  {
   "cell_type": "code",
   "execution_count": 4,
   "metadata": {},
   "outputs": [],
   "source": [
    "import dotenv\n",
    "import os"
   ]
  },
  {
   "cell_type": "code",
   "execution_count": 5,
   "metadata": {},
   "outputs": [
    {
     "data": {
      "text/plain": [
       "True"
      ]
     },
     "execution_count": 5,
     "metadata": {},
     "output_type": "execute_result"
    }
   ],
   "source": [
    "dotenv.load_dotenv()"
   ]
  },
  {
   "cell_type": "code",
   "execution_count": 6,
   "metadata": {},
   "outputs": [
    {
     "data": {
      "text/plain": [
       "'ubion'"
      ]
     },
     "execution_count": 6,
     "metadata": {},
     "output_type": "execute_result"
    }
   ],
   "source": [
    "os.getenv('host')\n",
    "int(os.getenv('port'))\n",
    "os.getenv('user')\n",
    "os.getenv('pwd')\n",
    "os.getenv('db_name')"
   ]
  },
  {
   "cell_type": "code",
   "execution_count": 8,
   "metadata": {},
   "outputs": [
    {
     "data": {
      "text/plain": [
       "<pymysql.connections.Connection at 0x11f09db6300>"
      ]
     },
     "execution_count": 8,
     "metadata": {},
     "output_type": "execute_result"
    }
   ],
   "source": [
    "_db = pymysql.connect(\n",
    "    host = os.getenv('host'),\n",
    "    port = int(os.getenv('port')),\n",
    "    user = os.getenv('user'),\n",
    "    password = os.getenv('pwd'),\n",
    "    db = os.getenv('db_name'),\n",
    ")\n",
    "_db"
   ]
  },
  {
   "cell_type": "code",
   "execution_count": 44,
   "metadata": {},
   "outputs": [],
   "source": [
    "select_sql = \"\"\"\n",
    "    SELECT * \n",
    "    FROM `SALES RECORDS`;\n",
    "\"\"\""
   ]
  },
  {
   "cell_type": "code",
   "execution_count": 13,
   "metadata": {},
   "outputs": [],
   "source": [
    "# CURSOR\n",
    "import pymysql.cursors\n",
    "\n",
    "\n",
    "cursor = _db.cursor() # 2차원 튜플 형태\n",
    "cursor2 = _db.cursor(pymysql.cursors.DictCursor) # 리스트 안 딕셔너리 형태"
   ]
  },
  {
   "cell_type": "code",
   "execution_count": 51,
   "metadata": {},
   "outputs": [
    {
     "data": {
      "text/plain": [
       "{'Region': 'Sub-Saharan Africa',\n",
       " 'Country': 'Chad',\n",
       " 'Item Type': 'Office Supplies',\n",
       " 'Sales Channel': 'Online',\n",
       " 'Order Priority': 'L',\n",
       " 'Order Date': '1/27/2011',\n",
       " 'Order ID': 292494523,\n",
       " 'Ship Date': '2/12/2011',\n",
       " 'Units Sold': 4484,\n",
       " 'Unit Price': 651.21,\n",
       " 'Unit Cost': 524.96,\n",
       " 'Total Revenue': 2920025.64,\n",
       " 'Total Cost': 2353920.64,\n",
       " 'Total Profit': 566105.0}"
      ]
     },
     "execution_count": 51,
     "metadata": {},
     "output_type": "execute_result"
    }
   ],
   "source": [
    "cursor2.execute(select_sql)\n",
    "cursor2.fetchone()"
   ]
  },
  {
   "cell_type": "code",
   "execution_count": 19,
   "metadata": {},
   "outputs": [],
   "source": [
    "insert_sql = \"\"\"\n",
    "    INSERT INTO\n",
    "    `USER`\n",
    "    VALUES\n",
    "    ('test1','0011','choi','25');\n",
    "\"\"\""
   ]
  },
  {
   "cell_type": "code",
   "execution_count": 20,
   "metadata": {},
   "outputs": [
    {
     "data": {
      "text/plain": [
       "1"
      ]
     },
     "execution_count": 20,
     "metadata": {},
     "output_type": "execute_result"
    }
   ],
   "source": [
    "cursor.execute(insert_sql)"
   ]
  },
  {
   "cell_type": "code",
   "execution_count": 53,
   "metadata": {},
   "outputs": [
    {
     "data": {
      "text/plain": [
       "(('test1', '0011', 'choi', 25),\n",
       " ('test12', '1233', 'seo', 55),\n",
       " ('test2', '1111', 'park', 30))"
      ]
     },
     "execution_count": 53,
     "metadata": {},
     "output_type": "execute_result"
    }
   ],
   "source": [
    "select_sql2 = \"SELECT * FROM USER\";\n",
    "cursor.execute(select_sql2)\n",
    "cursor.fetchall()"
   ]
  },
  {
   "cell_type": "code",
   "execution_count": 24,
   "metadata": {},
   "outputs": [],
   "source": [
    "_db.commit()"
   ]
  },
  {
   "cell_type": "code",
   "execution_count": 61,
   "metadata": {},
   "outputs": [
    {
     "data": {
      "text/plain": [
       "0"
      ]
     },
     "execution_count": 61,
     "metadata": {},
     "output_type": "execute_result"
    }
   ],
   "source": [
    "delete_sql1 = \"delete from `user` where `id` = 'test1'\"\n",
    "cursor.execute(delete_sql1)\n",
    "cursor.rowcount"
   ]
  },
  {
   "cell_type": "markdown",
   "metadata": {},
   "source": [
    "- select 함수 생성\n",
    "    1. 매개변수 (sql 쿼리)\n",
    "    2. sql 쿼리를 cursor2에 보내기\n",
    "    3. cursor에서 응답 데이터를 변수에 저장\n",
    "    4. 3번 과정의 결과를 데이터프레임으로 생성\n",
    "    5. 데이터프레임을 반환"
   ]
  },
  {
   "cell_type": "code",
   "execution_count": 25,
   "metadata": {},
   "outputs": [
    {
     "data": {
      "text/html": [
       "<div>\n",
       "<style scoped>\n",
       "    .dataframe tbody tr th:only-of-type {\n",
       "        vertical-align: middle;\n",
       "    }\n",
       "\n",
       "    .dataframe tbody tr th {\n",
       "        vertical-align: top;\n",
       "    }\n",
       "\n",
       "    .dataframe thead th {\n",
       "        text-align: right;\n",
       "    }\n",
       "</style>\n",
       "<table border=\"1\" class=\"dataframe\">\n",
       "  <thead>\n",
       "    <tr style=\"text-align: right;\">\n",
       "      <th></th>\n",
       "      <th>id</th>\n",
       "      <th>password</th>\n",
       "      <th>name</th>\n",
       "      <th>age</th>\n",
       "    </tr>\n",
       "  </thead>\n",
       "  <tbody>\n",
       "    <tr>\n",
       "      <th>0</th>\n",
       "      <td>test</td>\n",
       "      <td>1234</td>\n",
       "      <td>kim</td>\n",
       "      <td>20</td>\n",
       "    </tr>\n",
       "    <tr>\n",
       "      <th>1</th>\n",
       "      <td>test1</td>\n",
       "      <td>0011</td>\n",
       "      <td>choi</td>\n",
       "      <td>25</td>\n",
       "    </tr>\n",
       "    <tr>\n",
       "      <th>2</th>\n",
       "      <td>test2</td>\n",
       "      <td>1111</td>\n",
       "      <td>park</td>\n",
       "      <td>30</td>\n",
       "    </tr>\n",
       "    <tr>\n",
       "      <th>3</th>\n",
       "      <td>test3</td>\n",
       "      <td>0000</td>\n",
       "      <td>lee</td>\n",
       "      <td>40</td>\n",
       "    </tr>\n",
       "  </tbody>\n",
       "</table>\n",
       "</div>"
      ],
      "text/plain": [
       "      id password  name  age\n",
       "0   test     1234   kim   20\n",
       "1  test1     0011  choi   25\n",
       "2  test2     1111  park   30\n",
       "3  test3     0000   lee   40"
      ]
     },
     "execution_count": 25,
     "metadata": {},
     "output_type": "execute_result"
    }
   ],
   "source": [
    "def select_query(_sql):\n",
    "    cursor2.execute(_sql)\n",
    "    data = cursor2.fetchall()\n",
    "    df = pd.DataFrame(data)\n",
    "    return df\n",
    "\n",
    "test_sql = \"select * from `user`\"\n",
    "select_query(test_sql)   "
   ]
  },
  {
   "cell_type": "code",
   "execution_count": null,
   "metadata": {},
   "outputs": [],
   "source": [
    "def dml_query(_sql):\n",
    "    cursor2.execute(_sql)\n",
    "    if _sql.find(\"insert\") or _sql.find(\"update\"):\n",
    "        print(cursor2.fetchall())\n",
    "    else:\n",
    "        print(cursor2.rowcount+ '가 선택되었습니다.')\n",
    "        \n",
    "    ok = input(\"확인 후 ok를 입력하시오 \")\n",
    "    if ok == \"ok\":\n",
    "        _db.commit()\n",
    "        select = \"select * from `user`\"\n",
    "        return select_query(select)\n",
    "    else:\n",
    "        print(\"commit 되지 않았습니다.\")\n",
    "    \n",
    "# test_sql2 = \"insert into `user` values('test12','1233','seo',55)\"\n",
    "# dml_query(test_sql2)"
   ]
  },
  {
   "cell_type": "code",
   "execution_count": 42,
   "metadata": {},
   "outputs": [
    {
     "name": "stdout",
     "output_type": "stream",
     "text": [
      "[]\n",
      "commit 되지 않았습니다.\n"
     ]
    }
   ],
   "source": [
    "test_sql3 = \"delete from `user` where `id` = 'test'\"\n",
    "dml_query(test_sql3)"
   ]
  },
  {
   "cell_type": "code",
   "execution_count": 39,
   "metadata": {},
   "outputs": [
    {
     "data": {
      "text/plain": [
       "0"
      ]
     },
     "execution_count": 39,
     "metadata": {},
     "output_type": "execute_result"
    }
   ],
   "source": [
    "i = \"1234\"\n",
    "i.find(\"1\")"
   ]
  }
 ],
 "metadata": {
  "kernelspec": {
   "display_name": "base",
   "language": "python",
   "name": "python3"
  },
  "language_info": {
   "codemirror_mode": {
    "name": "ipython",
    "version": 3
   },
   "file_extension": ".py",
   "mimetype": "text/x-python",
   "name": "python",
   "nbconvert_exporter": "python",
   "pygments_lexer": "ipython3",
   "version": "3.12.3"
  }
 },
 "nbformat": 4,
 "nbformat_minor": 2
}
