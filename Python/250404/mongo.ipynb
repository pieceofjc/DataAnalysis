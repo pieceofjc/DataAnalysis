{
 "cells": [
  {
   "cell_type": "markdown",
   "metadata": {},
   "source": [
    "## MongoDB Python 활용\n",
    "- pymongo 설치\n"
   ]
  },
  {
   "cell_type": "code",
   "execution_count": 2,
   "metadata": {},
   "outputs": [
    {
     "name": "stdout",
     "output_type": "stream",
     "text": [
      "Defaulting to user installation because normal site-packages is not writeable\n",
      "Collecting pymongo\n",
      "  Using cached pymongo-4.11.3-cp312-cp312-win_amd64.whl.metadata (22 kB)\n",
      "Collecting dnspython<3.0.0,>=1.16.0 (from pymongo)\n",
      "  Using cached dnspython-2.7.0-py3-none-any.whl.metadata (5.8 kB)\n",
      "Using cached pymongo-4.11.3-cp312-cp312-win_amd64.whl (882 kB)\n",
      "Using cached dnspython-2.7.0-py3-none-any.whl (313 kB)\n",
      "Installing collected packages: dnspython, pymongo\n",
      "Successfully installed dnspython-2.7.0 pymongo-4.11.3\n"
     ]
    }
   ],
   "source": [
    "!pip install pymongo"
   ]
  },
  {
   "cell_type": "code",
   "execution_count": null,
   "metadata": {},
   "outputs": [],
   "source": [
    "from pymongo import MongoClient"
   ]
  },
  {
   "cell_type": "code",
   "execution_count": 43,
   "metadata": {},
   "outputs": [
    {
     "name": "stdout",
     "output_type": "stream",
     "text": [
      "{'_id': ObjectId('67ef37bd6a9e9e446c7efeb7'), 'name': 'test', 'password': '1234'}\n"
     ]
    }
   ],
   "source": [
    "uri = \"mongodb://localhost:27017/\"\n",
    "client = MongoClient(\n",
    "    host='127.0.0.1',\n",
    "    port=27017\n",
    ")\n",
    "db = client.get_database(\"ubion\")\n",
    "coll_list = db.list_collection_names()\n",
    "coll_one = db.user.find_one()\n",
    "print(coll_one)"
   ]
  },
  {
   "cell_type": "code",
   "execution_count": 19,
   "metadata": {},
   "outputs": [],
   "source": [
    "collections = db['users']"
   ]
  },
  {
   "cell_type": "code",
   "execution_count": 20,
   "metadata": {},
   "outputs": [
    {
     "data": {
      "text/plain": [
       "InsertManyResult([ObjectId('67ef43f96427c5b1ba44073e'), ObjectId('67ef43f96427c5b1ba44073f')], acknowledged=True)"
      ]
     },
     "execution_count": 20,
     "metadata": {},
     "output_type": "execute_result"
    }
   ],
   "source": [
    "data = [\n",
    "    {\n",
    "        \"name\" : \"kim\",\n",
    "        \"phone\" : \"01000000000\",\n",
    "        \"gender\" : \"male\"\n",
    "    },\n",
    "    {\n",
    "        \"name\" : \"seo\",\n",
    "        \"phone\" : \"01000000000\",\n",
    "        \"gender\" : \"female\"\n",
    "    }\n",
    "]\n",
    "collections.insert_many(data)"
   ]
  },
  {
   "cell_type": "code",
   "execution_count": 27,
   "metadata": {},
   "outputs": [
    {
     "data": {
      "text/plain": [
       "[{'name': 'kim', 'phone': '01000000000', 'gender': 'male'},\n",
       " {'name': 'seo', 'phone': '01000000000', 'gender': 'female'}]"
      ]
     },
     "execution_count": 27,
     "metadata": {},
     "output_type": "execute_result"
    }
   ],
   "source": [
    "list(\n",
    "    collections.find(\n",
    "        {},\n",
    "        {'_id' : 0}\n",
    "    )\n",
    ")"
   ]
  },
  {
   "cell_type": "code",
   "execution_count": 28,
   "metadata": {},
   "outputs": [
    {
     "data": {
      "text/plain": [
       "DeleteResult({'n': 1, 'ok': 1.0}, acknowledged=True)"
      ]
     },
     "execution_count": 28,
     "metadata": {},
     "output_type": "execute_result"
    }
   ],
   "source": [
    "collections.delete_one({'name' : \"seo\"})"
   ]
  },
  {
   "cell_type": "code",
   "execution_count": 29,
   "metadata": {},
   "outputs": [
    {
     "data": {
      "text/plain": [
       "[{'name': 'kim', 'phone': '01000000000', 'gender': 'male'}]"
      ]
     },
     "execution_count": 29,
     "metadata": {},
     "output_type": "execute_result"
    }
   ],
   "source": [
    "list(\n",
    "    collections.find(\n",
    "        {},\n",
    "        {'_id' : 0}\n",
    "    )\n",
    ")"
   ]
  },
  {
   "cell_type": "code",
   "execution_count": 31,
   "metadata": {},
   "outputs": [
    {
     "data": {
      "text/plain": [
       "[{'_id': ObjectId('67ef37bd6a9e9e446c7efeb7'),\n",
       "  'name': 'test',\n",
       "  'password': '1234'},\n",
       " {'_id': ObjectId('67ef37bd6a9e9e446c7efeb8'),\n",
       "  'name': 'test2',\n",
       "  'password': '1111'}]"
      ]
     },
     "execution_count": 31,
     "metadata": {},
     "output_type": "execute_result"
    }
   ],
   "source": [
    "list(db.user.find())"
   ]
  },
  {
   "cell_type": "markdown",
   "metadata": {},
   "source": [
    "### mongoDB select 조건식\n",
    "-find(옵션1, 옵션2, ...)\n",
    "1. db.collection.find() -> SELECT * FROM TABLE\n",
    "2. db.collection.find({'id' : 'test', 'pass' : '1234'}) -> SELECT * FROM TABLE WHERE id = 'test' AND pass = '1234'\n",
    "3. db.collection.find({'id' : 'test}, {'pass' : '1234'}) -> SELECT * FROM TABLE WHERE id = 'test' OR pass = '1234'\n",
    "4. db.collection.find({}, {'id' : 1 , 'pass' : 1}) -> SELECT id, pass FROM TABLE\n",
    "5. db.collection.find({}, {'id' : 0}) -> SELECT\n",
    "6. db.collection.find({'age' : {'$gt' : 25}}) -> SELECT * FROM TABLE WHERE age > 25\n",
    "7. db.collection.find({'age' : {'$lt' : 25}}) -> SELECT * FROM TABLE WHERE age < 25\n",
    "8. db.collection.find({'id' : {/bc/}}) -> SELECT * FROM WHERE id like '%bc%'\n",
    "9. db.collection.find().sort({'id' : 1}) -> SELECT * FROM TABLE ORDER BY id\n",
    "10. db.collection.find().sort({'id' : -1}) -> SELECT * FROM TABLE ORDER BY id DESC\n",
    "11. db.collection.find().limit(10) -> SELECT * FROM TABLE LIMIT 10"
   ]
  },
  {
   "cell_type": "code",
   "execution_count": 75,
   "metadata": {},
   "outputs": [
    {
     "name": "stdout",
     "output_type": "stream",
     "text": [
      "[{'_id': ObjectId('67ef60da541ca7d2b80d266b'), 'ENAME': 'kim', 'SAL': 2000}, {'_id': ObjectId('67ef6104541ca7d2b80d266c'), 'ENAME': 'seo', 'SAL': 2500}, {'_id': ObjectId('67ef615e541ca7d2b80d266d'), 'ENAME': 'pak', 'SAL': 1500}]\n",
      "[{'_id': ObjectId('67ef6104541ca7d2b80d266c'), 'ENAME': 'seo', 'SAL': 2500}, {'_id': ObjectId('67ef60da541ca7d2b80d266b'), 'ENAME': 'kim', 'SAL': 2000}]\n"
     ]
    }
   ],
   "source": [
    "# mongodb에서 admin 데이터베이스에서 test라는 collection에 있는 데이터 중\n",
    "# SAL 값이 1500 보다 큰 데이터에서 'ENAME' 을 기준으로 내림차순 정렬\n",
    "db = client['admin']\n",
    "collection = db['test']\n",
    "\n",
    "print(list(collection.find({})))\n",
    "print(list(collection.find({'SAL': {'$gt': 1500}}).sort([('ENAME', -1), ('SAL', 1)])))"
   ]
  },
  {
   "cell_type": "code",
   "execution_count": null,
   "metadata": {},
   "outputs": [],
   "source": []
  },
  {
   "cell_type": "code",
   "execution_count": null,
   "metadata": {},
   "outputs": [],
   "source": []
  }
 ],
 "metadata": {
  "kernelspec": {
   "display_name": "base",
   "language": "python",
   "name": "python3"
  },
  "language_info": {
   "codemirror_mode": {
    "name": "ipython",
    "version": 3
   },
   "file_extension": ".py",
   "mimetype": "text/x-python",
   "name": "python",
   "nbconvert_exporter": "python",
   "pygments_lexer": "ipython3",
   "version": "3.12.3"
  }
 },
 "nbformat": 4,
 "nbformat_minor": 2
}
