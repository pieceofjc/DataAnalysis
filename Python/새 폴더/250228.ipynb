{
 "cells": [
  {
   "cell_type": "code",
   "execution_count": 7,
   "metadata": {},
   "outputs": [
    {
     "name": "stdout",
     "output_type": "stream",
     "text": [
      "48\n"
     ]
    }
   ],
   "source": [
    "li = list(map(int, input().split()))\n",
    "cnt = 0\n",
    "result_list = []\n",
    "# 9 7 3 \n",
    "li.sort(reverse=True)\n",
    "\n",
    "if li[0] % li[1] == 0:\n",
    "    result_list.append(li[0])\n",
    "elif li[0] % li[2] == 0 or li[1] % li[2] == 0:\n",
    "    result_list.append(li[0])\n",
    "    result_list.append(li[1])\n",
    "else:\n",
    "    result_list = li\n",
    "    \n",
    "result = 1\n",
    "for r in result_list:\n",
    "    result *= r\n",
    "print(result)\n",
    "    \n"
   ]
  },
  {
   "cell_type": "code",
   "execution_count": 16,
   "metadata": {},
   "outputs": [
    {
     "name": "stdout",
     "output_type": "stream",
     "text": [
      "0 9 7 5 3 "
     ]
    }
   ],
   "source": [
    "n = int(input())\n",
    "li = list(map(int, input().split()))\n",
    "for i in range(n - 1, -1, -1):\n",
    "    print(li[i], end=\" \")"
   ]
  },
  {
   "cell_type": "code",
   "execution_count": 24,
   "metadata": {},
   "outputs": [
    {
     "name": "stdout",
     "output_type": "stream",
     "text": [
      "1 0 0 0 0 0 0 0 0 0 0 0 0 0 0 0 0 0 0 \n",
      "0 1 0 0 0 0 0 0 0 0 0 0 0 0 0 0 0 0 0 \n",
      "0 0 1 0 0 0 0 0 0 0 0 0 0 0 0 0 0 0 0 \n",
      "0 0 0 0 0 0 0 0 0 0 0 0 0 0 0 0 0 0 0 \n",
      "0 0 0 0 0 0 0 0 0 0 0 0 0 0 0 0 0 0 0 \n",
      "0 0 0 0 0 0 0 0 0 0 0 0 0 0 0 0 0 0 0 \n",
      "0 0 0 0 0 0 0 0 0 0 0 0 0 0 0 0 0 0 0 \n",
      "0 0 0 0 0 0 0 0 0 0 0 0 0 0 0 0 0 0 0 \n",
      "0 0 0 0 0 0 0 0 0 0 0 0 0 0 0 0 0 0 0 \n",
      "0 0 0 0 0 0 0 0 0 0 0 0 0 0 0 0 0 0 0 \n",
      "0 0 0 0 0 0 0 0 0 0 0 0 0 0 0 0 0 0 0 \n",
      "0 0 0 0 0 0 0 0 0 0 0 0 0 0 0 0 0 0 0 \n",
      "0 0 0 0 0 0 0 0 0 0 0 0 0 0 0 0 0 0 0 \n",
      "0 0 0 0 0 0 0 0 0 0 0 0 0 0 0 0 0 0 0 \n",
      "0 0 0 0 0 0 0 0 0 0 0 0 0 0 0 0 0 0 0 \n",
      "0 0 0 0 0 0 0 0 0 0 0 0 0 0 0 0 0 0 0 \n",
      "0 0 0 0 0 0 0 0 0 0 0 0 0 0 0 0 0 0 0 \n",
      "0 0 0 0 0 0 0 0 0 0 0 0 0 0 0 0 0 0 0 \n",
      "0 0 0 0 0 0 0 0 0 0 0 0 0 0 0 0 0 0 0 \n"
     ]
    }
   ],
   "source": [
    "matrix = [[0 for j in range(19)] for i in range(19)]\n",
    "n = int(input())\n",
    "for _ in range(n):\n",
    "    a, b = map(int, input().split())\n",
    "    matrix[a-1][b-1] = 1\n",
    "    \n",
    "for m in matrix:\n",
    "    for i in m:\n",
    "        print(i, end=\" \")\n",
    "    print()"
   ]
  },
  {
   "cell_type": "code",
   "execution_count": null,
   "metadata": {},
   "outputs": [],
   "source": [
    "d = []\n",
    "for i in range(19):\n",
    "    d.append(list(map(int, input().split())))\n",
    "\n",
    "n = int(input())\n",
    "for _ in range(n):\n",
    "    a , b = map(int, input().split())\n",
    "    a -= 1\n",
    "    b -= 1\n",
    "    for i in range(19):\n",
    "        if d[a][i] == 0:\n",
    "            d[a][i] = 1\n",
    "        else:\n",
    "            d[a][i] = 0\n",
    "        \n",
    "        if d[i][b] == 0:\n",
    "            d[i][b] = 1\n",
    "        else:\n",
    "            d[i][b] = 0\n",
    "\n",
    "for m in d:\n",
    "    for i in m:\n",
    "        print(i, end=\" \")\n",
    "    print()"
   ]
  },
  {
   "cell_type": "code",
   "execution_count": null,
   "metadata": {},
   "outputs": [],
   "source": [
    "class Users:\n",
    "    # 클래스 변수 (클래스 내의 전역변수)\n",
    "    user_list = []\n",
    "    user_cnt = 0\n",
    "    \n",
    "    def __init__(self, _name, _age):\n",
    "        # 지역 변수\n",
    "        self.name = _name\n",
    "        self.age = _age\n",
    "        Users.user_list.append(_name)\n",
    "        Users.user_cnt += 1\n",
    "        \n",
    "    def view_user(self):\n",
    "        print(\"회원의 이름은\", self.name, \"나이는 \", self.age, \"세 입니다\")\n",
    "        print(f\"등록된 회원의 목록은 {self.user_list}입니다\")\n",
    "        \n",
    "    def user_info(self):\n",
    "        print(f\"이름은 {self.name}, 나이는 {self.age}이다.\")\n",
    "    \n",
    "    def users_info(self):\n",
    "        print(f\"등록된 유저의 수는 {Users.user_cnt}\")\n",
    "        print(f\"등록된 유저의 목록은 {Users.user_list}\")"
   ]
  },
  {
   "cell_type": "code",
   "execution_count": null,
   "metadata": {},
   "outputs": [
    {
     "name": "stdout",
     "output_type": "stream",
     "text": [
      "이름은 kim, 나이는 20이다.\n",
      "등록된 유저의 수는 6\n",
      "등록된 유저의 목록은 ['kim', 'kim', 'kim', 'kim', 'kim', 'kim']\n"
     ]
    }
   ],
   "source": [
    "user_1 = Users(\"kim\",20)\n",
    "user_1.user_info()\n",
    "user_1.users_info()"
   ]
  },
  {
   "cell_type": "code",
   "execution_count": 13,
   "metadata": {},
   "outputs": [
    {
     "name": "stdout",
     "output_type": "stream",
     "text": [
      "이름은 kim, 나이는 10이다.\n",
      "등록된 유저의 수는 7\n",
      "등록된 유저의 목록은 ['kim', 'kim', 'kim', 'kim', 'kim', 'kim', 'park']\n"
     ]
    }
   ],
   "source": [
    "user_1.age = 10\n",
    "user_1.user_info()\n",
    "user_2 = Users(\"park\", 30)\n",
    "\n",
    "user_2.users_info()"
   ]
  },
  {
   "cell_type": "code",
   "execution_count": 14,
   "metadata": {},
   "outputs": [
    {
     "name": "stdout",
     "output_type": "stream",
     "text": [
      "등록된 유저의 수는 7\n",
      "등록된 유저의 목록은 ['kim', 'kim', 'kim', 'kim', 'kim', 'kim', 'park']\n"
     ]
    }
   ],
   "source": [
    "user_2.users_info()"
   ]
  },
  {
   "cell_type": "code",
   "execution_count": null,
   "metadata": {},
   "outputs": [],
   "source": [
    "h, w = map(int, input().split()) # 격자판의 세로 * 가로\n",
    "n = int(input()) # 막대의 개수\n",
    "\n",
    "# 격자판\n",
    "matrix = [[0 for _ in range(w)] for _ in range(h)]\n",
    "\n",
    "for _ in range(n):\n",
    "    # l은 막대의 길이\n",
    "    # d == 0 : 가로 d == 1 : 세로\n",
    "    # (x,y) 막대의 0번째 위치\n",
    "    l, d, x, y = map(int, input().split())\n",
    "    if d == 0:\n",
    "        for idx in range(l):\n",
    "            matrix[x-1][y-1+idx] = 1\n",
    "    elif d == 1:\n",
    "        for idx in range(l):\n",
    "            matrix[x-1+idx][y-1] = 1\n",
    "\n",
    "for m in matrix:\n",
    "    for i in m:\n",
    "        print(i, end=\" \")\n",
    "    print()\n"
   ]
  },
  {
   "cell_type": "code",
   "execution_count": 17,
   "metadata": {},
   "outputs": [
    {
     "ename": "ValueError",
     "evalue": "invalid literal for int() with base 10: 'Escape'",
     "output_type": "error",
     "traceback": [
      "\u001b[1;31m---------------------------------------------------------------------------\u001b[0m",
      "\u001b[1;31mValueError\u001b[0m                                Traceback (most recent call last)",
      "Cell \u001b[1;32mIn[17], line 4\u001b[0m\n\u001b[0;32m      1\u001b[0m matrix \u001b[38;5;241m=\u001b[39m []\n\u001b[0;32m      3\u001b[0m \u001b[38;5;28;01mfor\u001b[39;00m _ \u001b[38;5;129;01min\u001b[39;00m \u001b[38;5;28mrange\u001b[39m(\u001b[38;5;241m10\u001b[39m):\n\u001b[1;32m----> 4\u001b[0m     matrix\u001b[38;5;241m.\u001b[39mappend(\u001b[38;5;28;43mlist\u001b[39;49m\u001b[43m(\u001b[49m\u001b[38;5;28;43mmap\u001b[39;49m\u001b[43m(\u001b[49m\u001b[38;5;28;43mint\u001b[39;49m\u001b[43m,\u001b[49m\u001b[43m \u001b[49m\u001b[38;5;28;43minput\u001b[39;49m\u001b[43m(\u001b[49m\u001b[43m)\u001b[49m\u001b[38;5;241;43m.\u001b[39;49m\u001b[43msplit\u001b[49m\u001b[43m(\u001b[49m\u001b[43m)\u001b[49m\u001b[43m)\u001b[49m\u001b[43m)\u001b[49m)\n\u001b[0;32m      6\u001b[0m \u001b[38;5;66;03m# (1,1)에서 시작\u001b[39;00m\n\u001b[0;32m      7\u001b[0m i \u001b[38;5;241m=\u001b[39m \u001b[38;5;241m1\u001b[39m\n",
      "\u001b[1;31mValueError\u001b[0m: invalid literal for int() with base 10: 'Escape'"
     ]
    }
   ],
   "source": [
    "matrix = []\n",
    "\n",
    "for _ in range(10):\n",
    "    matrix.append(list(map(int, input().split())))\n",
    "\n",
    "# (1,1)에서 시작\n",
    "i = 1\n",
    "j = 1\n",
    "matrix[i][j] = 9\n",
    "\n",
    "while True:\n",
    "    if i == 8 and j == 8:\n",
    "        break\n",
    "    \n",
    "    if matrix[i][j+1] in [0,2]:\n",
    "        j += 1\n",
    "    elif matrix[i+1][j] in [0,2]:\n",
    "        i += 1\n",
    "    else:\n",
    "        break\n",
    "    \n",
    "    if matrix[i][j] == 2:\n",
    "        matrix[i][j] = 9\n",
    "        break\n",
    "    \n",
    "    matrix[i][j] = 9\n",
    "    \n",
    "for m in matrix:\n",
    "    for i in m:\n",
    "        print(i, end=\" \")\n",
    "    print()\n"
   ]
  },
  {
   "cell_type": "code",
   "execution_count": null,
   "metadata": {},
   "outputs": [],
   "source": [
    "class Bank:\n",
    "    # 클래스 변수\n",
    "    user_cnt = 0\n",
    "    b_type = {\n",
    "        \"00\":\"기본, 비대면\",\n",
    "        \"01\":\"기본, 대면\",\n",
    "        \"10\":\"급여, 비대면\",\n",
    "        \"11\":\"급여, 대면\",\n",
    "        \"20\":\"모임, 비대면\",\n",
    "        \"21\":\"모임, 대면\"\n",
    "    }\n",
    "    \n",
    "    \n",
    "    # 생성자 함수\n",
    "    def __init__(\n",
    "        self,\n",
    "        _name,\n",
    "        _birth,\n",
    "        _type = '00',\n",
    "        _cost = 0,\n",
    "        _log = []\n",
    "    ):\n",
    "        self.name = _name\n",
    "        self.type = _type\n",
    "        self.cost = _cost\n",
    "        self.birth = _birth\n",
    "        self.log = _log\n",
    "\n",
    "    \n",
    "    # self 변수를 출력\n",
    "    def view_info(self):\n",
    "        print(\n",
    "            f\"\"\"\n",
    "            계약자 이름 : {self.name} \\n\n",
    "            계약자 생년월일 : {self.birth} \\n\n",
    "            현재 잔액 : {self.cost} \\n\n",
    "            통장의 종류 : {Bank.b_type[self.type]}\n",
    "            \"\"\"\n",
    "        )\n",
    "        \n",
    "    \n",
    "    # b_type 코드표에 코드를 추가하는 함수\n",
    "    def update_code_book(self, _pwd, _code, _value):\n",
    "        if _pwd == \"1111\":\n",
    "            Bank.b_type[_code] = _value\n",
    "            print(\"코드 수정 완료\")\n",
    "        else:\n",
    "            print(\"관리자가 아닙니다\")\n",
    "        \n",
    "        \n",
    "    # 입금\n",
    "    def deposit(self, _cost, _type=\"00\", _name=\"\"):      \n",
    "        self.cost += _cost\n",
    "        self.log.append([_type, _cost, _name])\n",
    "        \n",
    "        print(\n",
    "            f\"\"\"\n",
    "            입금 금액 : {_cost}\n",
    "            입금자 : {_name}\n",
    "            잔액 : {self.cost}\n",
    "            \"\"\"\n",
    "        )\n",
    "        \n",
    "        \n",
    "    # 출금 \n",
    "    def withdrawal(self, _cost, _type=\"10\", _why=\"\"):\n",
    "        if self.cost < _cost:\n",
    "            print(\"잔액이 부족합니다\")\n",
    "            return\n",
    "        \n",
    "        self.cost -= _cost\n",
    "        self.log.append([_type, _cost, _why])\n",
    "        \n",
    "        print(\n",
    "            f\"\"\"\n",
    "            출금 금액 : {_cost}\n",
    "            사유 : {_why}\n",
    "            잔액 : {self.cost}\n",
    "            \"\"\"\n",
    "        )\n",
    "    \n",
    "    \n",
    "    # 내 통장의 정보를 출력\n",
    "    def current_print(self):\n",
    "        print(\"이름:\", self.name) \n",
    "        print(\"이름:\", self.type) # 통장 종류\n",
    "        print(\"이름:\", self.cost) # 잔액\n",
    "        \n",
    "    \n",
    "    # 내역 출력\n",
    "    # 종류에 따라 내역을 출력\n",
    "    def history(self, _type=\"전체\"):\n",
    "        history = []\n",
    "        if _type == \"전체\":\n",
    "            history = self.log\n",
    "        elif _type == \"입금\":\n",
    "            for g in self.log:\n",
    "                if g[0] in ['00','01']:\n",
    "                    history.append(g)\n",
    "        elif _type == \"출금\":\n",
    "            for g in self.log:\n",
    "                if g[0] in ['10','11']:\n",
    "                    history.append(g)\n",
    "    \n",
    "        print(f\"{_type} 내역\")\n",
    "        for h in history:\n",
    "            print(h)\n",
    "            \n",
    "    def history2(self, _type=\"전체\"):\n",
    "        print(f\"{_type} 내역\")\n",
    "        for g in self.log:\n",
    "            if _type == \"전체\":\n",
    "                print(g)\n",
    "            elif _type == \"입금\":\n",
    "                if g[0] in ['00','01']:\n",
    "                    print(g)\n",
    "            elif _type == \"출금\":\n",
    "                if g[0] in ['10','11']:\n",
    "                    print(g)\n",
    "                    "
   ]
  },
  {
   "cell_type": "code",
   "execution_count": 83,
   "metadata": {},
   "outputs": [],
   "source": [
    "bank_1 = Bank(\"kim\",\"001212\")"
   ]
  },
  {
   "cell_type": "code",
   "execution_count": 29,
   "metadata": {},
   "outputs": [
    {
     "name": "stdout",
     "output_type": "stream",
     "text": [
      "\n",
      "            계약자 이름 : kim \n",
      "\n",
      "            계약자 생년월일 : 001212 \n",
      "\n",
      "            현재 잔액 : 0 \n",
      "\n",
      "            통장의 종류 : 기본, 비대면\n",
      "            \n"
     ]
    }
   ],
   "source": [
    "bank_1.view_info()"
   ]
  },
  {
   "cell_type": "code",
   "execution_count": 84,
   "metadata": {},
   "outputs": [
    {
     "name": "stdout",
     "output_type": "stream",
     "text": [
      "코드 수정 완료\n",
      "코드 수정 완료\n"
     ]
    }
   ],
   "source": [
    "bank_1.update_code_book(\"1111\",\"30\",\"예금, 비대면\")\n",
    "bank_1.update_code_book(\"1111\",\"31\",\"예금, 대면\")"
   ]
  },
  {
   "cell_type": "code",
   "execution_count": 79,
   "metadata": {},
   "outputs": [
    {
     "data": {
      "text/plain": [
       "{'00': '기본, 비대면',\n",
       " '01': '기본, 대면',\n",
       " '10': '급여, 비대면',\n",
       " '11': '급여, 대면',\n",
       " '20': '모임, 비대면',\n",
       " '21': '모임, 대면',\n",
       " '30': '예금, 비대면',\n",
       " '31': '예금, 대면'}"
      ]
     },
     "execution_count": 79,
     "metadata": {},
     "output_type": "execute_result"
    }
   ],
   "source": [
    "bank_1.b_type"
   ]
  },
  {
   "cell_type": "code",
   "execution_count": 85,
   "metadata": {},
   "outputs": [
    {
     "name": "stdout",
     "output_type": "stream",
     "text": [
      "\n",
      "            입금 금액 : 20000\n",
      "            입금자 : pak\n",
      "            잔액 : 20000\n",
      "            \n",
      "\n",
      "            입금 금액 : 20000\n",
      "            입금자 : pak\n",
      "            잔액 : 40000\n",
      "            \n",
      "\n",
      "            출금 금액 : 6000\n",
      "            사유 : 음식점\n",
      "            잔액 : 34000\n",
      "            \n",
      "\n",
      "            출금 금액 : 10000\n",
      "            사유 : 소매점\n",
      "            잔액 : 24000\n",
      "            \n"
     ]
    }
   ],
   "source": [
    "bank_1.deposit(20000, _name=\"pak\")\n",
    "bank_1.deposit(20000, _name=\"pak\")\n",
    "bank_1.withdrawal(6000,_why=\"음식점\")\n",
    "bank_1.withdrawal(10000,_why=\"소매점\")"
   ]
  },
  {
   "cell_type": "code",
   "execution_count": 87,
   "metadata": {},
   "outputs": [
    {
     "name": "stdout",
     "output_type": "stream",
     "text": [
      "입금 내역\n",
      "['00', 20000, 'pak']\n",
      "['00', 20000, 'pak']\n"
     ]
    }
   ],
   "source": [
    "bank_1.history(\"입금\")"
   ]
  },
  {
   "cell_type": "code",
   "execution_count": 88,
   "metadata": {},
   "outputs": [
    {
     "name": "stdout",
     "output_type": "stream",
     "text": [
      "출금 내역\n",
      "['10', 6000, '음식점']\n",
      "['10', 10000, '소매점']\n"
     ]
    }
   ],
   "source": [
    "bank_1.history(\"출금\")"
   ]
  },
  {
   "cell_type": "code",
   "execution_count": 89,
   "metadata": {},
   "outputs": [
    {
     "name": "stdout",
     "output_type": "stream",
     "text": [
      "전체 내역\n",
      "['00', 20000, 'pak']\n",
      "['00', 20000, 'pak']\n",
      "['10', 6000, '음식점']\n",
      "['10', 10000, '소매점']\n"
     ]
    }
   ],
   "source": [
    "bank_1.history(\"전체\")"
   ]
  },
  {
   "cell_type": "code",
   "execution_count": 110,
   "metadata": {},
   "outputs": [],
   "source": [
    "class A:\n",
    "    def __init__(self, _name):\n",
    "        self.name = _name\n",
    "        \n",
    "    def view_name(self):\n",
    "        print(f\"이름은 {self.name}입니다\")\n",
    "\n",
    "\n",
    "# 상속    \n",
    "class B(A):\n",
    "    def __init__(self, _name, _age):\n",
    "        super().__init__(_name)\n",
    "        self.age = _age\n",
    "    \n",
    "    def view_age(self):\n",
    "        print(f\"나이는 {self.age}세 입니다\")\n",
    "        \n",
    "    def view_name(self):\n",
    "        print(self.name)\n",
    "        "
   ]
  },
  {
   "cell_type": "code",
   "execution_count": 111,
   "metadata": {},
   "outputs": [],
   "source": [
    "c = B(\"나나\", 24)\n",
    "d = A(\"kim\")"
   ]
  },
  {
   "cell_type": "code",
   "execution_count": 109,
   "metadata": {},
   "outputs": [
    {
     "name": "stdout",
     "output_type": "stream",
     "text": [
      "나나\n",
      "이름은 kim입니다\n"
     ]
    }
   ],
   "source": [
    "c.view_name()\n",
    "d.view_name()"
   ]
  },
  {
   "cell_type": "code",
   "execution_count": 116,
   "metadata": {},
   "outputs": [],
   "source": [
    "# inplace -> 판다스\n",
    "\n",
    "class InplaceTest:\n",
    "    \n",
    "    def __init__(self, _num):\n",
    "        self.num = _num\n",
    "        \n",
    "    def add_num(self, _other_num, inplace = False):\n",
    "        if inplace: # inplace가 True일 때는 데이터를 변경시킨다\n",
    "            self.num += _other_num\n",
    "        \n",
    "        else:\n",
    "            return self.num + _other_num"
   ]
  },
  {
   "cell_type": "code",
   "execution_count": null,
   "metadata": {},
   "outputs": [
    {
     "name": "stdout",
     "output_type": "stream",
     "text": [
      "20\n"
     ]
    }
   ],
   "source": [
    "# 같은 방법\n",
    "test = InplaceTest(5)\n",
    "test.add_num(15, True)\n",
    "\n",
    "test_2 = InplaceTest(5)\n",
    "test_2.num = test_2.add_num(15)\n",
    "\n",
    "print(test.num)\n",
    "print(test_2.num)"
   ]
  }
 ],
 "metadata": {
  "kernelspec": {
   "display_name": "base",
   "language": "python",
   "name": "python3"
  },
  "language_info": {
   "codemirror_mode": {
    "name": "ipython",
    "version": 3
   },
   "file_extension": ".py",
   "mimetype": "text/x-python",
   "name": "python",
   "nbconvert_exporter": "python",
   "pygments_lexer": "ipython3",
   "version": "3.12.3"
  }
 },
 "nbformat": 4,
 "nbformat_minor": 2
}
