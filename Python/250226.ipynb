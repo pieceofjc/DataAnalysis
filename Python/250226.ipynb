{
 "cells": [
  {
   "cell_type": "markdown",
   "metadata": {},
   "source": [
    "### Hello Python"
   ]
  },
  {
   "cell_type": "code",
   "execution_count": 1,
   "metadata": {},
   "outputs": [
    {
     "name": "stdout",
     "output_type": "stream",
     "text": [
      "10\n",
      "<class 'int'>\n"
     ]
    }
   ],
   "source": [
    "a = 10\n",
    "print(a)\n",
    "print(type(a))"
   ]
  },
  {
   "cell_type": "markdown",
   "metadata": {},
   "source": [
    "# 타이틀\n",
    "## 타이틀\n",
    "### 타이틀\n",
    "#### list\n",
    "1. list\n",
    "2. list2\n",
    "3. list3\n",
    "    1. list3-1"
   ]
  },
  {
   "cell_type": "code",
   "execution_count": 5,
   "metadata": {},
   "outputs": [
    {
     "name": "stdout",
     "output_type": "stream",
     "text": [
      "1\n",
      "8\n",
      "3570467226624\n"
     ]
    }
   ],
   "source": [
    "x = 18\n",
    "y = 10\n",
    "\n",
    "print(x // y)\n",
    "print(x % y)\n",
    "print(x ** y)"
   ]
  },
  {
   "cell_type": "code",
   "execution_count": 8,
   "metadata": {},
   "outputs": [],
   "source": [
    "x += 9"
   ]
  },
  {
   "cell_type": "code",
   "execution_count": 10,
   "metadata": {},
   "outputs": [
    {
     "name": "stdout",
     "output_type": "stream",
     "text": [
      "False True\n"
     ]
    }
   ],
   "source": [
    "print(x == y, x != y)"
   ]
  },
  {
   "cell_type": "markdown",
   "metadata": {},
   "source": [
    "- tuple\n",
    "    - 수정 불가능, 새로 만들어야 한다\n",
    "    - 위치\n",
    "- list\n",
    "    - 수정, 제거, 추가 가능\n",
    "    - 위치\n",
    "- dictionary\n",
    "    - key, value 쌍\n",
    "    - key를 기준으로 데이터 생성"
   ]
  },
  {
   "cell_type": "code",
   "execution_count": 3,
   "metadata": {},
   "outputs": [
    {
     "name": "stdout",
     "output_type": "stream",
     "text": [
      "<class 'tuple'>\n",
      "(10, 'test')\n",
      "3\n"
     ]
    }
   ],
   "source": [
    "tuple = (10, \"test\")\n",
    "tuple2 = (3, 3.13)\n",
    "print(type(tuple))\n",
    "print(tuple)\n",
    "print(tuple2[0])"
   ]
  },
  {
   "cell_type": "code",
   "execution_count": 15,
   "metadata": {},
   "outputs": [
    {
     "data": {
      "text/plain": [
       "(10,\n",
       " 'test',\n",
       " 3,\n",
       " 3.13,\n",
       " 10,\n",
       " 'test',\n",
       " 3,\n",
       " 3.13,\n",
       " 10,\n",
       " 'test',\n",
       " 3,\n",
       " 3.13,\n",
       " 10,\n",
       " 'test',\n",
       " 3,\n",
       " 3.13,\n",
       " 10,\n",
       " 'test',\n",
       " 3,\n",
       " 3.13,\n",
       " 10,\n",
       " 'test',\n",
       " 3,\n",
       " 3.13)"
      ]
     },
     "execution_count": 15,
     "metadata": {},
     "output_type": "execute_result"
    }
   ],
   "source": [
    "tuple3 = (tuple + tuple2) * 6\n",
    "tuple3"
   ]
  },
  {
   "cell_type": "code",
   "execution_count": 18,
   "metadata": {},
   "outputs": [
    {
     "data": {
      "text/plain": [
       "('test', 3, 3.13)"
      ]
     },
     "execution_count": 18,
     "metadata": {},
     "output_type": "execute_result"
    }
   ],
   "source": [
    "tuple3[-3:]"
   ]
  },
  {
   "cell_type": "code",
   "execution_count": 21,
   "metadata": {},
   "outputs": [
    {
     "name": "stdout",
     "output_type": "stream",
     "text": [
      "[7, 6, 4, 4, 3, 1] None None\n"
     ]
    }
   ],
   "source": [
    "list_a = [1,4,6,7,3,4]\n",
    "list_b = list_a.sort()\n",
    "list_c = list_a.sort(reverse=True)\n",
    "# list_d = list_b.reverse()\n",
    "\n",
    "print(list_a,list_b,list_c)"
   ]
  },
  {
   "cell_type": "code",
   "execution_count": 27,
   "metadata": {},
   "outputs": [],
   "source": [
    "st = \"000907-1121112\""
   ]
  },
  {
   "cell_type": "code",
   "execution_count": 44,
   "metadata": {},
   "outputs": [],
   "source": [
    "sample_data = [\n",
    "    {\n",
    "        \"name\": \"test22\",\n",
    "        \"pwd\": \"1234\"\n",
    "    },\n",
    "    {\n",
    "        \"name\": \"test33\",\n",
    "        \"pwd\": \"1234\"\n",
    "    },\n",
    "    {\n",
    "        \"name\": \"test44\",\n",
    "        \"pwd\": \"1234\"\n",
    "    }\n",
    "]"
   ]
  },
  {
   "cell_type": "code",
   "execution_count": 34,
   "metadata": {},
   "outputs": [
    {
     "data": {
      "text/plain": [
       "'test22'"
      ]
     },
     "execution_count": 34,
     "metadata": {},
     "output_type": "execute_result"
    }
   ],
   "source": [
    "sample_data[0][\"name\"]"
   ]
  },
  {
   "cell_type": "code",
   "execution_count": 1,
   "metadata": {},
   "outputs": [
    {
     "name": "stdout",
     "output_type": "stream",
     "text": [
      "13\n",
      "7\n",
      "30\n",
      "3\n",
      "1\n",
      "3.33\n"
     ]
    }
   ],
   "source": [
    "a, b = map(int, input().split())\n",
    "print(a+b)\n",
    "print(a-b)\n",
    "print(a*b)\n",
    "print(a//b)\n",
    "print(a%b)\n",
    "print(round(a/b,2))"
   ]
  },
  {
   "cell_type": "code",
   "execution_count": 10,
   "metadata": {},
   "outputs": [
    {
     "name": "stdout",
     "output_type": "stream",
     "text": [
      "1\t4\t7\t"
     ]
    }
   ],
   "source": [
    "for i in range(1, 10, 3):\n",
    "    print(i, end='\\t')"
   ]
  },
  {
   "cell_type": "code",
   "execution_count": 14,
   "metadata": {},
   "outputs": [
    {
     "name": "stdout",
     "output_type": "stream",
     "text": [
      "10101010101010101010\n"
     ]
    }
   ],
   "source": [
    "n = int(input())\n",
    "s = input()\n",
    "\n",
    "print(s * n)"
   ]
  },
  {
   "cell_type": "code",
   "execution_count": 16,
   "metadata": {},
   "outputs": [
    {
     "name": "stdout",
     "output_type": "stream",
     "text": [
      "3.14\n"
     ]
    }
   ],
   "source": [
    "a = float(input())\n",
    "print(round(a,2))"
   ]
  },
  {
   "cell_type": "code",
   "execution_count": 22,
   "metadata": {},
   "outputs": [
    {
     "name": "stdout",
     "output_type": "stream",
     "text": [
      "-3\n"
     ]
    }
   ],
   "source": [
    "a = 2\n",
    "print(~a)"
   ]
  },
  {
   "cell_type": "code",
   "execution_count": 31,
   "metadata": {},
   "outputs": [
    {
     "name": "stdout",
     "output_type": "stream",
     "text": [
      "odd\n",
      "even\n",
      "odd\n"
     ]
    }
   ],
   "source": [
    "li = list(map(int, input().split()))\n",
    "for i in li:\n",
    "    if i%2 == 0:\n",
    "        print(\"even\")\n",
    "    else:\n",
    "        print(\"odd\")"
   ]
  },
  {
   "cell_type": "code",
   "execution_count": 32,
   "metadata": {},
   "outputs": [
    {
     "name": "stdout",
     "output_type": "stream",
     "text": [
      "55\n"
     ]
    }
   ],
   "source": [
    "i = 1\n",
    "result = 0\n",
    "while i < 11:\n",
    "    result += i\n",
    "    i += 1\n",
    "print(result)"
   ]
  },
  {
   "cell_type": "code",
   "execution_count": 36,
   "metadata": {},
   "outputs": [
    {
     "name": "stdout",
     "output_type": "stream",
     "text": [
      "[7, 14, 21, 28, 35, 42, 49]\n",
      "[1, 2, 3, 4, 5, 6, 8, 9, 10, 11, 12, 13, 15, 16, 17, 18, 19, 20, 22, 23, 24, 25, 26, 27, 29, 30, 31, 32, 33, 34, 36, 37, 38, 39, 40, 41, 43, 44, 45, 46, 47, 48, 50]\n"
     ]
    }
   ],
   "source": [
    "list_x = []\n",
    "list_y = list()\n",
    "\n",
    "for i in range(1,51):\n",
    "    if i % 7 == 0:\n",
    "        list_x.append(i)\n",
    "    else:\n",
    "        list_y.append(i)\n",
    "        \n",
    "print(list_x)\n",
    "print(list_y)"
   ]
  },
  {
   "cell_type": "code",
   "execution_count": 42,
   "metadata": {},
   "outputs": [
    {
     "name": "stdout",
     "output_type": "stream",
     "text": [
      "106\n",
      "a b c d e f g h i j "
     ]
    }
   ],
   "source": [
    "c = ord(input())\n",
    "for i in range(97,c+1):\n",
    "    print(chr(i), end=\" \")"
   ]
  },
  {
   "cell_type": "code",
   "execution_count": 47,
   "metadata": {},
   "outputs": [
    {
     "name": "stdout",
     "output_type": "stream",
     "text": [
      "['test22', 'test33', 'test44']\n"
     ]
    }
   ],
   "source": [
    "name_list = []\n",
    "\n",
    "for i in sample_data:\n",
    "    name_list.append(i[\"name\"])\n",
    "    \n",
    "print(name_list)"
   ]
  },
  {
   "cell_type": "code",
   "execution_count": 58,
   "metadata": {},
   "outputs": [
    {
     "name": "stdout",
     "output_type": "stream",
     "text": [
      "1 2 X 4 5 X 7 8 X 10 11 12 X 14 15 X 17 18 X 20 21 22 X 24 25 X 27 "
     ]
    }
   ],
   "source": [
    "n = int(input())\n",
    "\n",
    "for i in range(1,n+1):\n",
    "    first = i % 10\n",
    "    if first == 0 or first % 3 != 0:\n",
    "        print(i, end=' ')\n",
    "    else:\n",
    "        print('X', end=' ')"
   ]
  },
  {
   "cell_type": "code",
   "execution_count": 67,
   "metadata": {},
   "outputs": [
    {
     "ename": "ValueError",
     "evalue": "not enough values to unpack (expected 4, got 1)",
     "output_type": "error",
     "traceback": [
      "\u001b[1;31m---------------------------------------------------------------------------\u001b[0m",
      "\u001b[1;31mValueError\u001b[0m                                Traceback (most recent call last)",
      "Cell \u001b[1;32mIn[67], line 1\u001b[0m\n\u001b[1;32m----> 1\u001b[0m h, b, c, s \u001b[38;5;241m=\u001b[39m \u001b[38;5;28mmap\u001b[39m(\u001b[38;5;28mint\u001b[39m, \u001b[38;5;28minput\u001b[39m()\u001b[38;5;241m.\u001b[39msplit())\n\u001b[0;32m      2\u001b[0m \u001b[38;5;28mprint\u001b[39m(\u001b[38;5;28mround\u001b[39m(h \u001b[38;5;241m*\u001b[39m b \u001b[38;5;241m*\u001b[39m c \u001b[38;5;241m*\u001b[39m s \u001b[38;5;241m/\u001b[39m \u001b[38;5;241m8\u001b[39m \u001b[38;5;241m/\u001b[39m \u001b[38;5;241m1024\u001b[39m \u001b[38;5;241m/\u001b[39m \u001b[38;5;241m1024\u001b[39m, \u001b[38;5;241m1\u001b[39m), \u001b[38;5;124m\"\u001b[39m\u001b[38;5;124mMB\u001b[39m\u001b[38;5;124m\"\u001b[39m)\n",
      "\u001b[1;31mValueError\u001b[0m: not enough values to unpack (expected 4, got 1)"
     ]
    }
   ],
   "source": [
    "h, b, c, s = map(int, input().split())\n",
    "print(round(h * b * c * s / 8 / 1024 / 1024, 1), \"MB\")"
   ]
  },
  {
   "cell_type": "code",
   "execution_count": 71,
   "metadata": {},
   "outputs": [
    {
     "data": {
      "text/plain": [
       "' hello world'"
      ]
     },
     "execution_count": 71,
     "metadata": {},
     "output_type": "execute_result"
    }
   ],
   "source": [
    "# 공백제거\n",
    "str = \" hello world \"\n",
    "str.strip()\n",
    "str.lstrip()\n",
    "str.rstrip()"
   ]
  },
  {
   "cell_type": "code",
   "execution_count": 91,
   "metadata": {},
   "outputs": [
    {
     "data": {
      "text/plain": [
       "1.2"
      ]
     },
     "execution_count": 91,
     "metadata": {},
     "output_type": "execute_result"
    }
   ],
   "source": [
    "# 끝부터 특정 문자 제거하기\n",
    "cost = \"$1.20$$\"\n",
    "cost = cost.strip(\"$\")\n",
    "float(cost)"
   ]
  },
  {
   "cell_type": "code",
   "execution_count": 93,
   "metadata": {},
   "outputs": [
    {
     "name": "stdout",
     "output_type": "stream",
     "text": [
      "10000\n"
     ]
    }
   ],
   "source": [
    "cost2 = \"10,000원\"\n",
    "cost2 = cost2.rstrip(\"원\")\n",
    "cost2 = cost2.replace(\",\",\"\")\n",
    "print(int(cost2))"
   ]
  },
  {
   "cell_type": "code",
   "execution_count": 99,
   "metadata": {},
   "outputs": [
    {
     "name": "stdout",
     "output_type": "stream",
     "text": [
      "1 2 1 1 2 1 1 0 1 0 0 0 0 0 0 0 0 0 0 0 0 0 "
     ]
    }
   ],
   "source": [
    "n = int(input())\n",
    "call = list(map(int, input().split()))\n",
    "\n",
    "li = [0] * (23 + 1)\n",
    "\n",
    "for i in call:\n",
    "    li[i] += 1\n",
    "\n",
    "for i in li[1:23+1]:\n",
    "    print(i, end=' ')"
   ]
  },
  {
   "cell_type": "code",
   "execution_count": 100,
   "metadata": {},
   "outputs": [
    {
     "name": "stdout",
     "output_type": "stream",
     "text": [
      "2\n"
     ]
    }
   ],
   "source": [
    "n = int(input())\n",
    "k_list = list(map(int, input().split()))\n",
    "\n",
    "min_k = 100001\n",
    "for i in k_list:\n",
    "    min_k = i if i < min_k else min_k\n",
    "\n",
    "print(min_k)"
   ]
  },
  {
   "cell_type": "code",
   "execution_count": 118,
   "metadata": {},
   "outputs": [
    {
     "data": {
      "text/plain": [
       "False"
      ]
     },
     "execution_count": 118,
     "metadata": {},
     "output_type": "execute_result"
    }
   ],
   "source": [
    "sql = \"select * from table\"\n",
    "sql2 = \"SELECT * from table\"\n",
    "\n",
    "sql2.startswith(\"SELECT\") # True\n",
    "sql2.find(\"SELECT  \") # -1 <- -1은 false\n",
    "sql2.find(\"SELECT\") # 0 <- 인덱스가 나오면 true\n",
    "sql2.find(\"select\") # -1\n",
    "sql2.startswith(\"select\") # False"
   ]
  },
  {
   "cell_type": "code",
   "execution_count": 122,
   "metadata": {},
   "outputs": [
    {
     "name": "stdout",
     "output_type": "stream",
     "text": [
      "../csv/test1.csv\n",
      "../csv/test5.csv\n"
     ]
    }
   ],
   "source": [
    "# 문자의 마지막이 특정한 문자와 같은가\n",
    "file_path = [\"../csv/test1.csv\", \"../csv/test2.xlsx\", \"../csv/test3.json\", \"../csv/test4.txt\",\"../csv/test5.csv\"]\n",
    "\n",
    "for i in file_path:\n",
    "    if i.endswith(\".csv\"):\n",
    "        print(i)"
   ]
  },
  {
   "cell_type": "code",
   "execution_count": 131,
   "metadata": {},
   "outputs": [
    {
     "name": "stdout",
     "output_type": "stream",
     "text": [
      "True\n",
      "True\n",
      "\n",
      "True\n"
     ]
    }
   ],
   "source": [
    "# 문자열에서 처음부터 7번째 전까지의 문자를 추출\n",
    "# 위에서 나온 결과인 문자열과 'select'가 같은가?\n",
    "\n",
    "txt = \"select\"\n",
    "print(sql.startswith(txt))\n",
    "print(sql[:len(txt)] == txt)\n",
    "print()\n",
    "\n",
    "txt2 = \".csv\"\n",
    "print(file_path[0][-len(txt2):] == txt2)"
   ]
  },
  {
   "cell_type": "code",
   "execution_count": 179,
   "metadata": {},
   "outputs": [
    {
     "name": "stdout",
     "output_type": "stream",
     "text": [
      "[{'name': 'test1', 'age': 20}, {'name': 'test2', 'age': 30}, {'name': 'test3', 'age': 40}]\n"
     ]
    }
   ],
   "source": [
    "dict_text = {\n",
    "    \"name\" : ['test1', 'test2', 'test3'],\n",
    "    \"age\" : [20, 30, 40]\n",
    "}\n",
    "\n",
    "li = []\n",
    "# length = len(dict_text[\"name\"])\n",
    "# for i in range(length):\n",
    "#     li.append({\"name\":dict_text[\"name\"][i], \"age\":dict_text[\"age\"][i]})\n",
    "\n",
    "for i in dict_text:\n",
    "    for j in range(len(dict_text[i])):\n",
    "        if len(dict_text[i]) > len(li):\n",
    "            li.append({})\n",
    "        li[j][i] = dict_text[i][j]\n",
    "\n",
    "print(li)"
   ]
  },
  {
   "cell_type": "markdown",
   "metadata": {},
   "source": [
    "### END"
   ]
  }
 ],
 "metadata": {
  "kernelspec": {
   "display_name": "base",
   "language": "python",
   "name": "python3"
  },
  "language_info": {
   "codemirror_mode": {
    "name": "ipython",
    "version": 3
   },
   "file_extension": ".py",
   "mimetype": "text/x-python",
   "name": "python",
   "nbconvert_exporter": "python",
   "pygments_lexer": "ipython3",
   "version": "3.12.3"
  }
 },
 "nbformat": 4,
 "nbformat_minor": 2
}
