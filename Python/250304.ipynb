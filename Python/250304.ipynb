{
 "cells": [
  {
   "cell_type": "markdown",
   "metadata": {},
   "source": [
    "### class 선언\n",
    "- class의 이름은 User \n",
    "    - 해당하는 클래스는 생성자 함수 생성 \n",
    "        - 유저의 기본 정보를 변수에 등록하는 함수\n",
    "        - 매개변수는 3개 \n",
    "            - _name : 유저의 이름\n",
    "            - _loc : 유저가 거주하는 지역\n",
    "            - _birth : 유저의 생년월일\n",
    "    - user_info 함수를 생성 \n",
    "        - 등록된 객체 변수를 출력하는 함수\n",
    "\n",
    "- class의 이름은 Wallet 클래스를 선언\n",
    "    - 생성자 함수 \n",
    "        - 매개변수 4개 \n",
    "            - _name : 지갑의 소유자의 이름\n",
    "            - _loc : 유저가 거주하는 지역\n",
    "            - _birth : 유저의 생년월일\n",
    "            - _balance : 지갑의 잔액\n",
    "    - work() 함수\n",
    "        - 매개변수 1개\n",
    "            - _cost : 금액 \n",
    "        - 지갑의 잔액을 _cost만큼 증가 \n",
    "    - buy() 함수\n",
    "        - 매개변수 1개 \n",
    "            - _cost : 금액\n",
    "        - 지갑의 잔액을 _cost만큼 감소\n",
    "            - 조건 : 지갑의 잔액이 _cost보다 크거나 같은 경우에만"
   ]
  },
  {
   "cell_type": "code",
   "execution_count": 18,
   "metadata": {},
   "outputs": [],
   "source": [
    "# User class 선언\n",
    "class User:\n",
    "\n",
    "    # 생성자 함수 \n",
    "    def __init__(self, _name, _loc, _birth):\n",
    "        print(\"User Class\")\n",
    "        self.name = _name\n",
    "        self.loc = _loc\n",
    "        self.birth = _birth\n",
    "\n",
    "    # 유저의 정보를 출력하는 함수 \n",
    "    def user_info(self):\n",
    "        print(f\"\"\" \n",
    "            유저의 이름 : {self.name}\n",
    "            유저의 지역 : {self.loc}\n",
    "            유저의 생년월일 : {self.birth}\n",
    "        \"\"\")"
   ]
  },
  {
   "cell_type": "code",
   "execution_count": 3,
   "metadata": {},
   "outputs": [],
   "source": [
    "user1 = User('kim', 'busan', \"900101\")\n",
    "user2 = User('park', 'seoul', \"951010\")"
   ]
  },
  {
   "cell_type": "code",
   "execution_count": 4,
   "metadata": {},
   "outputs": [
    {
     "name": "stdout",
     "output_type": "stream",
     "text": [
      " \n",
      "            유저의 이름 : kim\n",
      "            유저의 지역 : busan\n",
      "            유저의 생년월일 : 900101\n",
      "        \n"
     ]
    }
   ],
   "source": [
    "user1.user_info()"
   ]
  },
  {
   "cell_type": "code",
   "execution_count": 5,
   "metadata": {},
   "outputs": [
    {
     "name": "stdout",
     "output_type": "stream",
     "text": [
      " \n",
      "            유저의 이름 : park\n",
      "            유저의 지역 : seoul\n",
      "            유저의 생년월일 : 951010\n",
      "        \n"
     ]
    }
   ],
   "source": [
    "user2.user_info()"
   ]
  },
  {
   "cell_type": "code",
   "execution_count": 19,
   "metadata": {},
   "outputs": [],
   "source": [
    "class Wallet(User):\n",
    "\n",
    "    def __init__(self, _name, _loc, _birth, _balance):\n",
    "        print(\"Wallet Class\")\n",
    "        # self.name = _name\n",
    "        # self.loc = _loc\n",
    "        # self.birth = _birth\n",
    "        super().__init__(_name,_loc,_birth)\n",
    "        self.balance = _balance\n",
    "\n",
    "    # def user_info()\n",
    "    \n",
    "    def work(self, _cost):\n",
    "        # 지갑의 잔액을 증가\n",
    "        self.balance += _cost\n",
    "        print(f\"현재 지갑의 잔액은 {self.balance}입니다\")\n",
    "\n",
    "    def buy(self, _cost):\n",
    "        # 지갑의 잔액이 감소\n",
    "        # 조건식 : 현재 지갑의 잔액이 _cost보다 크거나 같은 경우에만\n",
    "        if self.balance >= _cost:\n",
    "            self.balance -= _cost\n",
    "            print(f\"현재 지갑의 잔액은 {self.balance}입니다.\")\n",
    "        else:\n",
    "            print(f\"지갑의 잔액이 부족합니다. \")"
   ]
  },
  {
   "cell_type": "code",
   "execution_count": 8,
   "metadata": {},
   "outputs": [],
   "source": [
    "wallet1 = Wallet(\"kim\",\"seoul\",\"001122\",0)\n",
    "wallet2 = Wallet(\"pak\",\"seoul\",\"000622\",0)\n"
   ]
  },
  {
   "cell_type": "code",
   "execution_count": 11,
   "metadata": {},
   "outputs": [
    {
     "name": "stdout",
     "output_type": "stream",
     "text": [
      "현재 지갑의 잔액은 2000000입니다\n",
      "2000000\n",
      "0\n"
     ]
    }
   ],
   "source": [
    "wallet1.work(1000000)\n",
    "print(wallet1.balance)\n",
    "print(wallet2.balance)"
   ]
  },
  {
   "cell_type": "code",
   "execution_count": 12,
   "metadata": {},
   "outputs": [
    {
     "name": "stdout",
     "output_type": "stream",
     "text": [
      "지갑의 잔액이 부족합니다. \n"
     ]
    }
   ],
   "source": [
    "wallet2.buy(80)"
   ]
  },
  {
   "cell_type": "code",
   "execution_count": 13,
   "metadata": {},
   "outputs": [
    {
     "name": "stdout",
     "output_type": "stream",
     "text": [
      " \n",
      "            유저의 이름 : kim\n",
      "            유저의 지역 : seoul\n",
      "            유저의 생년월일 : 001122\n",
      "        \n"
     ]
    }
   ],
   "source": [
    "wallet1.user_info()"
   ]
  },
  {
   "cell_type": "code",
   "execution_count": 28,
   "metadata": {},
   "outputs": [],
   "source": [
    "# 내가 구매한 물건의 목록\n",
    "class Shopping(Wallet):\n",
    "    \n",
    "    def __init__(self, _name, _loc, _birth, _balance):\n",
    "        print(\"Shopping Class\")\n",
    "        super().__init__(_name, _loc, _birth, _balance)\n",
    "        # 구매한 물품의 목록을 추가하기 위한 변수\n",
    "        self.item_list = []\n",
    "        \n",
    "    # 물건을 구매 시도 후 성공하면 물건의 이름을 item_list에 추가하는 함수\n",
    "    def add_item(self, item_name, item_cost):\n",
    "        balance1 = self.balance\n",
    "        super().buy(item_cost)\n",
    "        balance2 = self.balance\n",
    "        \n",
    "        if balance1 != balance2:\n",
    "            self.item_list.append(item_name);\n",
    "            print(f\"{item_name} 물건을 구매 성공\")\n",
    "            print(f\"구매한 물품의 목록은 {self.item_list}\")\n",
    "            \n",
    "        else:\n",
    "            print(f\"{item_name}의 물건 구매를 실패\")\n",
    "            \n",
    "            "
   ]
  },
  {
   "cell_type": "code",
   "execution_count": 29,
   "metadata": {},
   "outputs": [
    {
     "name": "stdout",
     "output_type": "stream",
     "text": [
      "Shopping Class\n",
      "Wallet Class\n",
      "User Class\n",
      "Shopping Class\n",
      "Wallet Class\n",
      "User Class\n"
     ]
    }
   ],
   "source": [
    "shopper1 = Shopping(\"kim\", \"busan\", \"981222\", 0)\n",
    "shopper2 = Shopping(\"pak\", \"seoul\", \"981122\", 0)"
   ]
  },
  {
   "cell_type": "code",
   "execution_count": 30,
   "metadata": {},
   "outputs": [
    {
     "name": "stdout",
     "output_type": "stream",
     "text": [
      "현재 지갑의 잔액은 1000000입니다\n",
      "현재 지갑의 잔액은 2000000입니다\n"
     ]
    }
   ],
   "source": [
    "shopper1.work(1000000)\n",
    "shopper2.work(2000000)"
   ]
  },
  {
   "cell_type": "code",
   "execution_count": 31,
   "metadata": {},
   "outputs": [
    {
     "name": "stdout",
     "output_type": "stream",
     "text": [
      "현재 지갑의 잔액은 950000입니다.\n"
     ]
    }
   ],
   "source": [
    "shopper1.buy(50000)"
   ]
  },
  {
   "cell_type": "code",
   "execution_count": 26,
   "metadata": {},
   "outputs": [
    {
     "name": "stdout",
     "output_type": "stream",
     "text": [
      " \n",
      "            유저의 이름 : kim\n",
      "            유저의 지역 : busan\n",
      "            유저의 생년월일 : 981222\n",
      "        \n"
     ]
    }
   ],
   "source": [
    "shopper1.user_info()"
   ]
  }
 ],
 "metadata": {
  "kernelspec": {
   "display_name": "base",
   "language": "python",
   "name": "python3"
  },
  "language_info": {
   "codemirror_mode": {
    "name": "ipython",
    "version": 3
   },
   "file_extension": ".py",
   "mimetype": "text/x-python",
   "name": "python",
   "nbconvert_exporter": "python",
   "pygments_lexer": "ipython3",
   "version": "3.12.3"
  }
 },
 "nbformat": 4,
 "nbformat_minor": 2
}
